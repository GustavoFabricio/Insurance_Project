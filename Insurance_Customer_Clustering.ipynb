{
 "cells": [
  {
   "cell_type": "markdown",
   "metadata": {},
   "source": [
    "# Data Mining Project \n",
    "### Group A - 2019/2020 \n",
    "\n",
    "## Report: Customer Segmentation for an Insurance Company’s Marketing Department \n",
    "\n",
    "\n",
    "Authors\n",
    "Dave Montali - M20190201 \n",
    "Gustavo Fabricio - M20190129 \n",
    "Philipp Tueschen - M20180391 \n"
   ]
  },
  {
   "cell_type": "markdown",
   "metadata": {},
   "source": [
    "# 1. Packages"
   ]
  },
  {
   "cell_type": "markdown",
   "metadata": {},
   "source": [
    "Please Run the cell below to install packages not typically included with the conda environment. The cell below will install the ipywidgets factor_analyzer kmodes python modules, ensuring the rest of the notebook runs smoothly. The cell will also import all other libraries included in conda which we use in the notebook."
   ]
  },
  {
   "cell_type": "code",
   "execution_count": 47,
   "metadata": {},
   "outputs": [],
   "source": [
    "import sqlalchemy as sqla\n",
    "import pandas as pd\n",
    "import numpy as np\n",
    "import seaborn as sb\n",
    "import matplotlib.pyplot as plt\n",
    "import matplotlib.cm as cm\n",
    "\n",
    "from ipywidgets import interact, interact_manual\n",
    "from sklearn import preprocessing\n",
    "from sklearn.preprocessing import QuantileTransformer\n",
    "from sklearn.neighbors import NearestNeighbors\n",
    "from sklearn.tree import DecisionTreeClassifier\n",
    "from sklearn.model_selection import train_test_split\n",
    "from sklearn import metrics\n",
    "from sklearn.metrics import confusion_matrix\n",
    "from sklearn.metrics import silhouette_samples\n",
    "from sklearn.metrics import silhouette_score\n",
    "from sklearn.impute import SimpleImputer\n",
    "\n",
    "from sklearn.cluster import KMeans\n",
    "from sklearn.cluster import AgglomerativeClustering\n",
    "from sklearn.cluster import MeanShift, estimate_bandwidth\n",
    "from sklearn.cluster import DBSCAN\n",
    "\n",
    "from sklearn.decomposition import PCA\n",
    "\n",
    "from kmodes.kmodes import KModes\n",
    "from factor_analyzer import FactorAnalyzer\n",
    "from factor_analyzer.factor_analyzer import calculate_bartlett_sphericity\n",
    "\n",
    "from scipy.cluster.hierarchy import dendrogram, linkage#, set_link_color_pallete\n",
    "from scipy.cluster import hierarchy"
   ]
  },
  {
   "cell_type": "markdown",
   "metadata": {},
   "source": [
    "# 2. Import Data Frame "
   ]
  },
  {
   "cell_type": "code",
   "execution_count": 48,
   "metadata": {},
   "outputs": [
    {
     "data": {
      "text/html": [
       "<div>\n",
       "<style scoped>\n",
       "    .dataframe tbody tr th:only-of-type {\n",
       "        vertical-align: middle;\n",
       "    }\n",
       "\n",
       "    .dataframe tbody tr th {\n",
       "        vertical-align: top;\n",
       "    }\n",
       "\n",
       "    .dataframe thead th {\n",
       "        text-align: right;\n",
       "    }\n",
       "</style>\n",
       "<table border=\"1\" class=\"dataframe\">\n",
       "  <thead>\n",
       "    <tr style=\"text-align: right;\">\n",
       "      <th></th>\n",
       "      <th>CustomerIdentity</th>\n",
       "      <th>FirstPolicy</th>\n",
       "      <th>BirthdayYear</th>\n",
       "      <th>EducationalDegree</th>\n",
       "      <th>GrossMonthlySalary</th>\n",
       "      <th>GeographicLivingArea</th>\n",
       "      <th>Children</th>\n",
       "      <th>CustomerMonetaryValue</th>\n",
       "      <th>ClaimsRate</th>\n",
       "      <th>P_Motor</th>\n",
       "      <th>P_Household</th>\n",
       "      <th>P_Health</th>\n",
       "      <th>P_Life</th>\n",
       "      <th>P_Work</th>\n",
       "    </tr>\n",
       "  </thead>\n",
       "  <tbody>\n",
       "    <tr>\n",
       "      <th>0</th>\n",
       "      <td>1</td>\n",
       "      <td>1985.0</td>\n",
       "      <td>1982.0</td>\n",
       "      <td>2 - High School</td>\n",
       "      <td>2177.0</td>\n",
       "      <td>1.0</td>\n",
       "      <td>1.0</td>\n",
       "      <td>380.97</td>\n",
       "      <td>0.39</td>\n",
       "      <td>375.85</td>\n",
       "      <td>79.45</td>\n",
       "      <td>146.36</td>\n",
       "      <td>47.01</td>\n",
       "      <td>16.89</td>\n",
       "    </tr>\n",
       "    <tr>\n",
       "      <th>1</th>\n",
       "      <td>2</td>\n",
       "      <td>1981.0</td>\n",
       "      <td>1995.0</td>\n",
       "      <td>2 - High School</td>\n",
       "      <td>677.0</td>\n",
       "      <td>4.0</td>\n",
       "      <td>1.0</td>\n",
       "      <td>-131.13</td>\n",
       "      <td>1.12</td>\n",
       "      <td>77.46</td>\n",
       "      <td>416.20</td>\n",
       "      <td>116.69</td>\n",
       "      <td>194.48</td>\n",
       "      <td>106.13</td>\n",
       "    </tr>\n",
       "    <tr>\n",
       "      <th>2</th>\n",
       "      <td>3</td>\n",
       "      <td>1991.0</td>\n",
       "      <td>1970.0</td>\n",
       "      <td>1 - Basic</td>\n",
       "      <td>2277.0</td>\n",
       "      <td>3.0</td>\n",
       "      <td>0.0</td>\n",
       "      <td>504.67</td>\n",
       "      <td>0.28</td>\n",
       "      <td>206.15</td>\n",
       "      <td>224.50</td>\n",
       "      <td>124.58</td>\n",
       "      <td>86.35</td>\n",
       "      <td>99.02</td>\n",
       "    </tr>\n",
       "    <tr>\n",
       "      <th>3</th>\n",
       "      <td>4</td>\n",
       "      <td>1990.0</td>\n",
       "      <td>1981.0</td>\n",
       "      <td>3 - BSc/MSc</td>\n",
       "      <td>1099.0</td>\n",
       "      <td>4.0</td>\n",
       "      <td>1.0</td>\n",
       "      <td>-16.99</td>\n",
       "      <td>0.99</td>\n",
       "      <td>182.48</td>\n",
       "      <td>43.35</td>\n",
       "      <td>311.17</td>\n",
       "      <td>35.34</td>\n",
       "      <td>28.34</td>\n",
       "    </tr>\n",
       "    <tr>\n",
       "      <th>4</th>\n",
       "      <td>5</td>\n",
       "      <td>1986.0</td>\n",
       "      <td>1973.0</td>\n",
       "      <td>3 - BSc/MSc</td>\n",
       "      <td>1763.0</td>\n",
       "      <td>4.0</td>\n",
       "      <td>1.0</td>\n",
       "      <td>35.23</td>\n",
       "      <td>0.90</td>\n",
       "      <td>338.62</td>\n",
       "      <td>47.80</td>\n",
       "      <td>182.59</td>\n",
       "      <td>18.78</td>\n",
       "      <td>41.45</td>\n",
       "    </tr>\n",
       "  </tbody>\n",
       "</table>\n",
       "</div>"
      ],
      "text/plain": [
       "   CustomerIdentity  FirstPolicy  BirthdayYear EducationalDegree  \\\n",
       "0                 1       1985.0        1982.0   2 - High School   \n",
       "1                 2       1981.0        1995.0   2 - High School   \n",
       "2                 3       1991.0        1970.0         1 - Basic   \n",
       "3                 4       1990.0        1981.0       3 - BSc/MSc   \n",
       "4                 5       1986.0        1973.0       3 - BSc/MSc   \n",
       "\n",
       "   GrossMonthlySalary  GeographicLivingArea  Children  CustomerMonetaryValue  \\\n",
       "0              2177.0                   1.0       1.0                 380.97   \n",
       "1               677.0                   4.0       1.0                -131.13   \n",
       "2              2277.0                   3.0       0.0                 504.67   \n",
       "3              1099.0                   4.0       1.0                 -16.99   \n",
       "4              1763.0                   4.0       1.0                  35.23   \n",
       "\n",
       "   ClaimsRate  P_Motor  P_Household  P_Health  P_Life  P_Work  \n",
       "0        0.39   375.85        79.45    146.36   47.01   16.89  \n",
       "1        1.12    77.46       416.20    116.69  194.48  106.13  \n",
       "2        0.28   206.15       224.50    124.58   86.35   99.02  \n",
       "3        0.99   182.48        43.35    311.17   35.34   28.34  \n",
       "4        0.90   338.62        47.80    182.59   18.78   41.45  "
      ]
     },
     "execution_count": 48,
     "metadata": {},
     "output_type": "execute_result"
    }
   ],
   "source": [
    "df_database = pd.read_csv('https://raw.githubusercontent.com/GustavoFabricio/Insurance_Project/master/A2Z%20Insurance.csv')\n",
    "df_database = df_database.rename(index=str, columns = {'Customer Identity': \"CustomerIdentity\",\n",
    "                                                       'Premiums in LOB: Motor': 'P_Motor',\n",
    "                                                       'Premiums in LOB: Household': 'P_Household',\n",
    "                                                       'Premiums in LOB: Health': 'P_Health',\n",
    "                                                       'Premiums in LOB:  Life': 'P_Life',\n",
    "                                                       'Premiums in LOB: Work Compensations': 'P_Work',\n",
    "                                                       'First Policy´s Year': 'FirstPolicy',\n",
    "                                                       'Brithday Year': 'BirthdayYear',\n",
    "                                                       'Educational Degree': 'EducationalDegree',\n",
    "                                                       'Gross Monthly Salary': 'GrossMonthlySalary',\n",
    "                                                       'Geographic Living Area': 'GeographicLivingArea', \n",
    "                                                       'Has Children (Y=1)': 'Children',\n",
    "                                                       'Customer Monetary Value': 'CustomerMonetaryValue',\n",
    "                                                       'Claims Rate': 'ClaimsRate'})\n",
    "df_database.head(5)"
   ]
  },
  {
   "cell_type": "markdown",
   "metadata": {},
   "source": [
    "# 3. Exploring the data"
   ]
  },
  {
   "cell_type": "code",
   "execution_count": 49,
   "metadata": {},
   "outputs": [
    {
     "name": "stdout",
     "output_type": "stream",
     "text": [
      "Number of Rows: 10296\n",
      "Number of Cols:14\n",
      "\n",
      "DataFrame Variable data types: \n",
      "CustomerIdentity           int64\n",
      "FirstPolicy              float64\n",
      "BirthdayYear             float64\n",
      "EducationalDegree         object\n",
      "GrossMonthlySalary       float64\n",
      "GeographicLivingArea     float64\n",
      "Children                 float64\n",
      "CustomerMonetaryValue    float64\n",
      "ClaimsRate               float64\n",
      "P_Motor                  float64\n",
      "P_Household              float64\n",
      "P_Health                 float64\n",
      "P_Life                   float64\n",
      "P_Work                   float64\n",
      "dtype: object\n"
     ]
    }
   ],
   "source": [
    "# number of rows and columns\n",
    "print(f'Number of Rows: {df_database.shape[0]}\\nNumber of Cols:{df_database.shape[1]}')\n",
    "\n",
    "# data types within the dataframe\n",
    "print(f'\\nDataFrame Variable data types: \\n{df_database.dtypes}')"
   ]
  },
  {
   "cell_type": "code",
   "execution_count": 50,
   "metadata": {},
   "outputs": [
    {
     "name": "stdout",
     "output_type": "stream",
     "text": [
      "DataFrame Summary by Numerical Variables: \n",
      "       CustomerIdentity   FirstPolicy  BirthdayYear  GrossMonthlySalary  \\\n",
      "count       10296.00000  10266.000000  10279.000000        10260.000000   \n",
      "mean         5148.50000   1991.062634   1968.007783         2506.667057   \n",
      "std          2972.34352    511.267913     19.709476         1157.449634   \n",
      "min             1.00000   1974.000000   1028.000000          333.000000   \n",
      "25%          2574.75000   1980.000000   1953.000000         1706.000000   \n",
      "50%          5148.50000   1986.000000   1968.000000         2501.500000   \n",
      "75%          7722.25000   1992.000000   1983.000000         3290.250000   \n",
      "max         10296.00000  53784.000000   2001.000000        55215.000000   \n",
      "\n",
      "       GeographicLivingArea      Children  CustomerMonetaryValue  \\\n",
      "count          10295.000000  10275.000000           10296.000000   \n",
      "mean               2.709859      0.706764             177.892605   \n",
      "std                1.266291      0.455268            1945.811505   \n",
      "min                1.000000      0.000000         -165680.420000   \n",
      "25%                1.000000      0.000000              -9.440000   \n",
      "50%                3.000000      1.000000             186.870000   \n",
      "75%                4.000000      1.000000             399.777500   \n",
      "max                4.000000      1.000000           11875.890000   \n",
      "\n",
      "         ClaimsRate       P_Motor   P_Household      P_Health        P_Life  \\\n",
      "count  10296.000000  10262.000000  10296.000000  10253.000000  10192.000000   \n",
      "mean       0.742772    300.470252    210.431192    171.580833     41.855782   \n",
      "std        2.916964    211.914997    352.595984    296.405976     47.480632   \n",
      "min        0.000000     -4.110000    -75.000000     -2.110000     -7.000000   \n",
      "25%        0.390000    190.590000     49.450000    111.800000      9.890000   \n",
      "50%        0.720000    298.610000    132.800000    162.810000     25.560000   \n",
      "75%        0.980000    408.300000    290.050000    219.820000     57.790000   \n",
      "max      256.200000  11604.420000  25048.800000  28272.000000    398.300000   \n",
      "\n",
      "             P_Work  \n",
      "count  10210.000000  \n",
      "mean      41.277514  \n",
      "std       51.513572  \n",
      "min      -12.000000  \n",
      "25%       10.670000  \n",
      "50%       25.670000  \n",
      "75%       56.790000  \n",
      "max     1988.700000  \n"
     ]
    }
   ],
   "source": [
    "#Get thebest insights\n",
    "print(f'DataFrame Summary by Numerical Variables: \\n{df_database.describe()}')"
   ]
  },
  {
   "cell_type": "code",
   "execution_count": 51,
   "metadata": {},
   "outputs": [
    {
     "name": "stdout",
     "output_type": "stream",
     "text": [
      "Total NA by Column: \n",
      "\n",
      "CustomerIdentity           0\n",
      "FirstPolicy               30\n",
      "BirthdayYear              17\n",
      "EducationalDegree         17\n",
      "GrossMonthlySalary        36\n",
      "GeographicLivingArea       1\n",
      "Children                  21\n",
      "CustomerMonetaryValue      0\n",
      "ClaimsRate                 0\n",
      "P_Motor                   34\n",
      "P_Household                0\n",
      "P_Health                  43\n",
      "P_Life                   104\n",
      "P_Work                    86\n",
      "dtype: int64\n",
      "\n",
      "\n",
      "Total NA by Row: \n",
      "\n",
      "3       3\n",
      "4      12\n",
      "2      38\n",
      "1     256\n",
      "0    9987\n",
      "dtype: int64\n"
     ]
    }
   ],
   "source": [
    "# how many empty cells by column\n",
    "print(f'Total NA by Column: \\n\\n{df_database.isna().sum()}')\n",
    "\n",
    "#how many empty cells by row\n",
    "print(f'\\n\\nTotal NA by Row: \\n\\n{df_database.isnull().sum(axis =1).value_counts(ascending= True)}') "
   ]
  },
  {
   "cell_type": "code",
   "execution_count": 52,
   "metadata": {},
   "outputs": [],
   "source": [
    "#for null values of the insurance we will assume that the customer does not own the product\n",
    "df_database.fillna(value={'P_Motor': 0, 'P_Health': 0, 'P_Life': 0, 'P_Work': 0}, inplace = True)\n",
    "#Change Education Labels\n",
    "df_database.replace(to_replace={'2 - High School':2,'1 - Basic':1,'3 - BSc/MSc':3,'4 - PhD':4}, inplace=True)"
   ]
  },
  {
   "cell_type": "markdown",
   "metadata": {},
   "source": [
    "## 3.1 Data Distribution and cleaning inconsistent values"
   ]
  },
  {
   "cell_type": "code",
   "execution_count": 53,
   "metadata": {},
   "outputs": [
    {
     "data": {
      "application/vnd.jupyter.widget-view+json": {
       "model_id": "4eb1dc42ac7a439db8fd9d90cbcc7285",
       "version_major": 2,
       "version_minor": 0
      },
      "text/plain": [
       "interactive(children=(Dropdown(description='indicator', options=('P_Motor', 'P_Household', 'P_Health', 'P_Life…"
      ]
     },
     "metadata": {},
     "output_type": "display_data"
    }
   ],
   "source": [
    "@interact\n",
    "def plt_distro(indicator=['P_Motor', 'P_Household', 'P_Health', 'P_Life', 'P_Work', 'FirstPolicy', \n",
    "                          'BirthdayYear','GrossMonthlySalary', 'CustomerMonetaryValue', 'ClaimsRate']):\n",
    "    plt.figure(figsize=(15,5))\n",
    "    return sb.boxplot(np.array(df_database[indicator].dropna())) \n",
    "  "
   ]
  },
  {
   "cell_type": "markdown",
   "metadata": {},
   "source": [
    "#### As we can see, our database has outiliers and/or some wrong informations for all variables\n"
   ]
  },
  {
   "cell_type": "code",
   "execution_count": 54,
   "metadata": {},
   "outputs": [],
   "source": [
    "# [FirstPolicy] let's replace the inconsistent value  53784\n",
    "df_database['FirstPolicy'].replace(53784, None, inplace=True)\n",
    "\n",
    "# [BirthdayYear] Let's assume that nobody can be born before 1920 and input null values for this cases.\n",
    "df_database['BirthdayYear'] = df_database['BirthdayYear'].apply(lambda x: x if x > 1920 else None)\n",
    "\n",
    "#['BirthdayYear'] Nobody can have a Policy before they were born so let's put Null for Birthday years after the first policy\n",
    "df_database.loc[df_database['BirthdayYear'] > df_database['FirstPolicy'], 'BirthdayYear'] = None\n"
   ]
  },
  {
   "cell_type": "code",
   "execution_count": 55,
   "metadata": {},
   "outputs": [
    {
     "data": {
      "application/vnd.jupyter.widget-view+json": {
       "model_id": "c03d853089b2465c81f15577f74187ae",
       "version_major": 2,
       "version_minor": 0
      },
      "text/plain": [
       "interactive(children=(Dropdown(description='indicator', options=('EducationalDegree', 'GeographicLivingArea', …"
      ]
     },
     "metadata": {},
     "output_type": "display_data"
    }
   ],
   "source": [
    "@interact\n",
    "def plt_distro(indicator=['EducationalDegree','GeographicLivingArea','Children']):\n",
    "    plt.figure(figsize=(10,7))\n",
    "    return sb.barplot(x=indicator, y=\"CustomerIdentity\", data=df_database.groupby(indicator)['CustomerIdentity'].count().reset_index())\n",
    "\n"
   ]
  },
  {
   "cell_type": "markdown",
   "metadata": {},
   "source": [
    "## 4. Removing Outliers"
   ]
  },
  {
   "cell_type": "code",
   "execution_count": 56,
   "metadata": {},
   "outputs": [],
   "source": [
    "#to look for outliers, we will standardize the variables in order to put then at the same scale\n",
    "dbScaled = pd.concat([df_database['P_Motor'], df_database['P_Household'], df_database['P_Health'], \n",
    "                            df_database['P_Life'], df_database['P_Work'],df_database['GrossMonthlySalary'], \n",
    "                            df_database['CustomerMonetaryValue'], df_database['ClaimsRate']], axis =1)\n",
    "\n",
    "mm_scaler = preprocessing.MinMaxScaler()\n",
    "dbScaled = pd.DataFrame(mm_scaler.fit_transform(dbScaled), \n",
    "                              columns = ['P_Motor', 'P_Household', 'P_Health', 'P_Life', 'P_Work',\n",
    "                                         'GrossMonthlySalary', 'CustomerMonetaryValue', 'ClaimsRate'], \n",
    "                              index = df_database.index)\n",
    "\n",
    "# Tryng to transform the distributions more similar as a normal distribution we applyed Square root\n",
    "for x in dbScaled.columns :\n",
    "    dbScaled[x] = (dbScaled[x]+0.0001)**0.5"
   ]
  },
  {
   "cell_type": "code",
   "execution_count": 57,
   "metadata": {},
   "outputs": [
    {
     "data": {
      "application/vnd.jupyter.widget-view+json": {
       "model_id": "70b4074dce804e25812ecdb1370f2c7f",
       "version_major": 2,
       "version_minor": 0
      },
      "text/plain": [
       "interactive(children=(Dropdown(description='indicator', options=('P_Motor', 'P_Household', 'P_Health', 'P_Life…"
      ]
     },
     "metadata": {},
     "output_type": "display_data"
    }
   ],
   "source": [
    "@interact\n",
    "def plt_distro(indicator=['P_Motor', 'P_Household', 'P_Health', 'P_Life', 'P_Work','GrossMonthlySalary', 'CustomerMonetaryValue', 'ClaimsRate']):\n",
    "    plt.figure(figsize=(15,5))\n",
    "    return sb.boxplot(np.array(dbScaled[indicator]))"
   ]
  },
  {
   "cell_type": "markdown",
   "metadata": {},
   "source": [
    "#### Because we still have distributions with a long tail on right or left side we decide to adapt the Box Plot fomula to find possible outliers, instead of use quantile .25 and .75 we use .2 and .8 and instead of multiply for 1.5 we will multiply for 2.5"
   ]
  },
  {
   "cell_type": "code",
   "execution_count": 58,
   "metadata": {},
   "outputs": [],
   "source": [
    "dbScaledOutliers = pd.DataFrame(columns = ['P_Motor', 'P_Household', 'P_Health', 'P_Life', 'P_Work',\n",
    "                                      'GrossMonthlySalary', 'CustomerMonetaryValue', 'ClaimsRate'])\n",
    "\n",
    "for variable in dbScaled.columns:\n",
    "    IQR = (dbScaled[variable].quantile(0.8) - dbScaled[variable].quantile(0.2))\n",
    "    LS = dbScaled[variable].quantile(0.8) + IQR*2.5\n",
    "    LI = dbScaled[variable].quantile(0.2) - IQR*2.5\n",
    "    dbScaledOutliers = pd.concat([dbScaledOutliers, dbScaled[(dbScaled[variable] < LI) | (dbScaled[variable] > LS)]])\n",
    "\n",
    "dbScaledOutliers.drop_duplicates(keep='last', inplace = True)\n",
    "dbScaled = dbScaled.drop(list(dbScaledOutliers.index))\n",
    "df_databaseOutliers =  df_database.loc[df_database.index.isin(dbScaledOutliers.index)]  \n",
    "df_database = df_database.drop(list(dbScaledOutliers.index))"
   ]
  },
  {
   "cell_type": "code",
   "execution_count": 59,
   "metadata": {},
   "outputs": [
    {
     "name": "stdout",
     "output_type": "stream",
     "text": [
      "At the end we removed 40 at total \n",
      "\n",
      "\n"
     ]
    },
    {
     "data": {
      "text/html": [
       "<div>\n",
       "<style scoped>\n",
       "    .dataframe tbody tr th:only-of-type {\n",
       "        vertical-align: middle;\n",
       "    }\n",
       "\n",
       "    .dataframe tbody tr th {\n",
       "        vertical-align: top;\n",
       "    }\n",
       "\n",
       "    .dataframe thead th {\n",
       "        text-align: right;\n",
       "    }\n",
       "</style>\n",
       "<table border=\"1\" class=\"dataframe\">\n",
       "  <thead>\n",
       "    <tr style=\"text-align: right;\">\n",
       "      <th></th>\n",
       "      <th>CustomerIdentity</th>\n",
       "      <th>FirstPolicy</th>\n",
       "      <th>BirthdayYear</th>\n",
       "      <th>EducationalDegree</th>\n",
       "      <th>GrossMonthlySalary</th>\n",
       "      <th>GeographicLivingArea</th>\n",
       "      <th>Children</th>\n",
       "      <th>CustomerMonetaryValue</th>\n",
       "      <th>ClaimsRate</th>\n",
       "      <th>P_Motor</th>\n",
       "      <th>P_Household</th>\n",
       "      <th>P_Health</th>\n",
       "      <th>P_Life</th>\n",
       "      <th>P_Work</th>\n",
       "    </tr>\n",
       "  </thead>\n",
       "  <tbody>\n",
       "    <tr>\n",
       "      <th>51</th>\n",
       "      <td>52</td>\n",
       "      <td>1982.0</td>\n",
       "      <td>1966.0</td>\n",
       "      <td>3.0</td>\n",
       "      <td>3234.0</td>\n",
       "      <td>4.0</td>\n",
       "      <td>1.0</td>\n",
       "      <td>-14714.08</td>\n",
       "      <td>25.36</td>\n",
       "      <td>557.44</td>\n",
       "      <td>20.00</td>\n",
       "      <td>29.56</td>\n",
       "      <td>5.00</td>\n",
       "      <td>-9.00</td>\n",
       "    </tr>\n",
       "    <tr>\n",
       "      <th>112</th>\n",
       "      <td>113</td>\n",
       "      <td>1997.0</td>\n",
       "      <td>1979.0</td>\n",
       "      <td>4.0</td>\n",
       "      <td>2354.0</td>\n",
       "      <td>1.0</td>\n",
       "      <td>1.0</td>\n",
       "      <td>-8719.04</td>\n",
       "      <td>15.65</td>\n",
       "      <td>518.32</td>\n",
       "      <td>4.45</td>\n",
       "      <td>55.90</td>\n",
       "      <td>3.89</td>\n",
       "      <td>10.89</td>\n",
       "    </tr>\n",
       "    <tr>\n",
       "      <th>135</th>\n",
       "      <td>136</td>\n",
       "      <td>1997.0</td>\n",
       "      <td>1988.0</td>\n",
       "      <td>3.0</td>\n",
       "      <td>2176.0</td>\n",
       "      <td>4.0</td>\n",
       "      <td>1.0</td>\n",
       "      <td>-10198.91</td>\n",
       "      <td>14.80</td>\n",
       "      <td>297.61</td>\n",
       "      <td>162.80</td>\n",
       "      <td>143.36</td>\n",
       "      <td>136.47</td>\n",
       "      <td>-3.00</td>\n",
       "    </tr>\n",
       "    <tr>\n",
       "      <th>149</th>\n",
       "      <td>150</td>\n",
       "      <td>1989.0</td>\n",
       "      <td>NaN</td>\n",
       "      <td>1.0</td>\n",
       "      <td>984.0</td>\n",
       "      <td>4.0</td>\n",
       "      <td>1.0</td>\n",
       "      <td>255.71</td>\n",
       "      <td>0.63</td>\n",
       "      <td>64.90</td>\n",
       "      <td>197.25</td>\n",
       "      <td>29.56</td>\n",
       "      <td>18.56</td>\n",
       "      <td>451.53</td>\n",
       "    </tr>\n",
       "    <tr>\n",
       "      <th>171</th>\n",
       "      <td>172</td>\n",
       "      <td>1990.0</td>\n",
       "      <td>1989.0</td>\n",
       "      <td>3.0</td>\n",
       "      <td>1086.0</td>\n",
       "      <td>4.0</td>\n",
       "      <td>1.0</td>\n",
       "      <td>-165680.42</td>\n",
       "      <td>256.20</td>\n",
       "      <td>378.07</td>\n",
       "      <td>78.90</td>\n",
       "      <td>166.81</td>\n",
       "      <td>6.89</td>\n",
       "      <td>18.45</td>\n",
       "    </tr>\n",
       "  </tbody>\n",
       "</table>\n",
       "</div>"
      ],
      "text/plain": [
       "     CustomerIdentity  FirstPolicy  BirthdayYear  EducationalDegree  \\\n",
       "51                 52       1982.0        1966.0                3.0   \n",
       "112               113       1997.0        1979.0                4.0   \n",
       "135               136       1997.0        1988.0                3.0   \n",
       "149               150       1989.0           NaN                1.0   \n",
       "171               172       1990.0        1989.0                3.0   \n",
       "\n",
       "     GrossMonthlySalary  GeographicLivingArea  Children  \\\n",
       "51               3234.0                   4.0       1.0   \n",
       "112              2354.0                   1.0       1.0   \n",
       "135              2176.0                   4.0       1.0   \n",
       "149               984.0                   4.0       1.0   \n",
       "171              1086.0                   4.0       1.0   \n",
       "\n",
       "     CustomerMonetaryValue  ClaimsRate  P_Motor  P_Household  P_Health  \\\n",
       "51               -14714.08       25.36   557.44        20.00     29.56   \n",
       "112               -8719.04       15.65   518.32         4.45     55.90   \n",
       "135              -10198.91       14.80   297.61       162.80    143.36   \n",
       "149                 255.71        0.63    64.90       197.25     29.56   \n",
       "171             -165680.42      256.20   378.07        78.90    166.81   \n",
       "\n",
       "     P_Life  P_Work  \n",
       "51     5.00   -9.00  \n",
       "112    3.89   10.89  \n",
       "135  136.47   -3.00  \n",
       "149   18.56  451.53  \n",
       "171    6.89   18.45  "
      ]
     },
     "execution_count": 59,
     "metadata": {},
     "output_type": "execute_result"
    }
   ],
   "source": [
    "print('At the end we removed', len(df_databaseOutliers), 'at total \\n\\n' )\n",
    "df_databaseOutliers.head()"
   ]
  },
  {
   "cell_type": "markdown",
   "metadata": {},
   "source": [
    "## 4.1 Distribution after remove Outliers"
   ]
  },
  {
   "cell_type": "code",
   "execution_count": 60,
   "metadata": {},
   "outputs": [
    {
     "data": {
      "application/vnd.jupyter.widget-view+json": {
       "model_id": "56d9eb896eed4d9fa95ad5746b91bf33",
       "version_major": 2,
       "version_minor": 0
      },
      "text/plain": [
       "interactive(children=(Dropdown(description='indicator', options=('P_Motor', 'P_Household', 'P_Health', 'P_Life…"
      ]
     },
     "metadata": {},
     "output_type": "display_data"
    }
   ],
   "source": [
    "@interact\n",
    "def plt_distro(indicator=['P_Motor', 'P_Household', 'P_Health', 'P_Life', 'P_Work','GrossMonthlySalary', 'CustomerMonetaryValue', 'ClaimsRate']):\n",
    "    plt.figure(figsize=(15,5))\n",
    "    return sb.boxplot(np.array(df_database[indicator]))"
   ]
  },
  {
   "cell_type": "markdown",
   "metadata": {},
   "source": [
    "# 5. Deal with null data"
   ]
  },
  {
   "cell_type": "markdown",
   "metadata": {},
   "source": [
    "## 5.1 Correlation"
   ]
  },
  {
   "cell_type": "code",
   "execution_count": 61,
   "metadata": {},
   "outputs": [
    {
     "data": {
      "image/png": "[encoded data removed]",
      "text/plain": [
       "<Figure size 864x864 with 2 Axes>"
      ]
     },
     "metadata": {
      "needs_background": "light"
     },
     "output_type": "display_data"
    }
   ],
   "source": [
    "#Before deal with the null data we will take a look at the correlation between numerical variables\n",
    "corr = df_database.drop(['Children', 'GeographicLivingArea', 'CustomerIdentity'], axis=1).corr(method='pearson').round(2)\n",
    "mask = np.zeros_like(corr)\n",
    "mask[np.triu_indices_from(mask)] = True\n",
    "fig, ax = plt.subplots(figsize=(12,12))\n",
    "with sb.axes_style(\"white\"):\n",
    "    ax = sb.heatmap(corr, annot=True,mask=mask, vmax=1, vmin=-1, square=True)\n",
    "# OBS: We can notice Growth Salary has a strong negative correlation with birthday year and Old people has best salaries\n",
    "#      Costumer monetary value has a strong negative correlation with Clains Rate  if Clains Rate is High te custumer monetary is low\n",
    "\n"
   ]
  },
  {
   "cell_type": "code",
   "execution_count": 62,
   "metadata": {},
   "outputs": [
    {
     "name": "stdout",
     "output_type": "stream",
     "text": [
      "% of null Values \n",
      " CustomerIdentity          0.000000\n",
      "FirstPolicy               0.292512\n",
      "BirthdayYear             19.491030\n",
      "EducationalDegree         0.165757\n",
      "GrossMonthlySalary        0.351014\n",
      "GeographicLivingArea      0.009750\n",
      "Children                  0.204758\n",
      "CustomerMonetaryValue     0.000000\n",
      "ClaimsRate                0.000000\n",
      "P_Motor                   0.000000\n",
      "P_Household               0.000000\n",
      "P_Health                  0.000000\n",
      "P_Life                    0.000000\n",
      "P_Work                    0.000000\n",
      "dtype: float64\n"
     ]
    }
   ],
   "source": [
    "print(\"% of null Values \\n\", (df_database.isna().sum()/len(df_database))*100)"
   ]
  },
  {
   "cell_type": "markdown",
   "metadata": {},
   "source": [
    "#### As we can see, apart from Brithday year the others variables has less than 1% of null values"
   ]
  },
  {
   "cell_type": "markdown",
   "metadata": {},
   "source": [
    "## 5.2 Predicting GeographicLivingArea, GrossMonthlySalary and FirstPolicy with Most frequent Value "
   ]
  },
  {
   "cell_type": "code",
   "execution_count": 63,
   "metadata": {},
   "outputs": [],
   "source": [
    "#GeographicLivingArea, GrossMonthlySalary, FirstPolicy we will apply the most commum value to replace the NA\n",
    "\n",
    "imp_mode = SimpleImputer(missing_values=np.nan, strategy='most_frequent')\n",
    "df_database['EducationalDegree'] = imp_mode.fit_transform(df_database[['EducationalDegree']]).ravel()\n",
    "####GeographicLivingArea\n",
    "df_database['GeographicLivingArea'] = imp_mode.fit_transform(df_database[['GeographicLivingArea']]).ravel()\n",
    "####GrossMonthlySalary\n",
    "df_database['GrossMonthlySalary'] = imp_mode.fit_transform(df_database[['GrossMonthlySalary']]).ravel()\n",
    "####FirstPolicy\n",
    "df_database['FirstPolicy'] = imp_mode.fit_transform(df_database[['FirstPolicy']]).ravel()"
   ]
  },
  {
   "cell_type": "code",
   "execution_count": 64,
   "metadata": {},
   "outputs": [
    {
     "data": {
      "text/plain": [
       "CustomerIdentity            0\n",
       "FirstPolicy                 0\n",
       "BirthdayYear             2002\n",
       "EducationalDegree           0\n",
       "GrossMonthlySalary          0\n",
       "GeographicLivingArea        0\n",
       "Children                   21\n",
       "CustomerMonetaryValue       0\n",
       "ClaimsRate                  0\n",
       "P_Motor                     0\n",
       "P_Household                 0\n",
       "P_Health                    0\n",
       "P_Life                      0\n",
       "P_Work                      0\n",
       "dtype: int64"
      ]
     },
     "execution_count": 64,
     "metadata": {},
     "output_type": "execute_result"
    }
   ],
   "source": [
    "# Because we estimate FirstPolicy lets check Again check for birthdays grather than first policy\n",
    "df_database.loc[df_database['BirthdayYear'] > df_database['FirstPolicy'], 'BirthdayYear'] = None\n",
    "df_database.isna().sum()"
   ]
  },
  {
   "cell_type": "markdown",
   "metadata": {},
   "source": [
    "##### Because we have a lot of null values and we know that GrossMonthlySalary is high correlated with  Bithday year, we decide to drop this column"
   ]
  },
  {
   "cell_type": "code",
   "execution_count": 65,
   "metadata": {},
   "outputs": [],
   "source": [
    "df_database.drop(columns = ['BirthdayYear'], inplace = True)"
   ]
  },
  {
   "cell_type": "markdown",
   "metadata": {},
   "source": [
    "## 5.3 Predicting Children with decision tree."
   ]
  },
  {
   "cell_type": "markdown",
   "metadata": {},
   "source": [
    "### 5.3.1 Training Model and evaluating results"
   ]
  },
  {
   "cell_type": "code",
   "execution_count": 66,
   "metadata": {},
   "outputs": [
    {
     "name": "stdout",
     "output_type": "stream",
     "text": [
      "[[ 381  222]\n",
      " [ 105 1339]]\n",
      "Accuracy: 0.84\n",
      "Balanced Accuracy: 0.78\n"
     ]
    }
   ],
   "source": [
    "#Decision tree to classify Children\n",
    "df_bins = pd.DataFrame()\n",
    "columns = ['P_Motor', 'GrossMonthlySalary']\n",
    "\n",
    "for x in columns:\n",
    "    df_bins[x] = pd.qcut(df_database[x], q=4).cat.codes\n",
    "\n",
    "df_bins = pd.concat([df_bins, df_database[['GeographicLivingArea', 'Children']]], axis = 1)\n",
    "\n",
    "X = df_bins[['P_Motor', 'GrossMonthlySalary', 'GeographicLivingArea', 'Children']].dropna().drop(columns = ['Children'])\n",
    "y = df_bins.dropna()\n",
    "y = pd.Categorical(pd.Series(y['Children']), ordered = True)\n",
    "y = pd.get_dummies(y)\n",
    "\n",
    "X_train, X_test, y_train, y_test = train_test_split(X, y, test_size=0.2, random_state=111)\n",
    "dt = DecisionTreeClassifier()\n",
    "dt.fit(X_train, y_train)\n",
    "y_pred = dt.predict(X_test)\n",
    "children = np.array(y_test).argmax(axis=1)\n",
    "predictions = np.array(y_pred).argmax(axis=1)\n",
    "\n",
    "print(confusion_matrix(children, predictions))\n",
    "print(\"Accuracy:\", round(metrics.accuracy_score(children, predictions), 2))\n",
    "print(\"Balanced Accuracy:\", round(metrics.balanced_accuracy_score(children, predictions), 2))\n",
    "\n"
   ]
  },
  {
   "cell_type": "markdown",
   "metadata": {},
   "source": [
    "### 5.3.2 Applying Model"
   ]
  },
  {
   "cell_type": "code",
   "execution_count": 67,
   "metadata": {},
   "outputs": [
    {
     "data": {
      "text/plain": [
       "CustomerIdentity         0\n",
       "FirstPolicy              0\n",
       "EducationalDegree        0\n",
       "GrossMonthlySalary       0\n",
       "GeographicLivingArea     0\n",
       "Children                 0\n",
       "CustomerMonetaryValue    0\n",
       "ClaimsRate               0\n",
       "P_Motor                  0\n",
       "P_Household              0\n",
       "P_Health                 0\n",
       "P_Life                   0\n",
       "P_Work                   0\n",
       "dtype: int64"
      ]
     },
     "execution_count": 67,
     "metadata": {},
     "output_type": "execute_result"
    }
   ],
   "source": [
    "childrenPred = df_database[['P_Motor', 'GrossMonthlySalary', 'GeographicLivingArea', 'Children']].dropna(subset = ['P_Motor', 'GrossMonthlySalary', 'GeographicLivingArea'])\n",
    "childrenPred = childrenPred[childrenPred['Children'].isnull()].drop(columns = ['Children'])\n",
    "\n",
    "columns = ['P_Motor', 'GrossMonthlySalary']\n",
    "for x in columns:\n",
    "    childrenPred[x] = pd.qcut(childrenPred[x], q=4).cat.codes\n",
    "\n",
    "predictions = dt.predict(childrenPred)\n",
    "predictions = np.array(predictions).argmax(axis=1)\n",
    "predictions = pd.DataFrame(predictions, columns = ['Children_y'])\n",
    "predictions.set_index(childrenPred.index, inplace = True)\n",
    "\n",
    "df_database = df_database.merge(predictions, how='left', left_index=True, right_index=True)\n",
    "df_database['Children'] = df_database['Children'].fillna(df_database['Children_y'])\n",
    "df_database.drop(columns = ['Children_y'],inplace=True)\n",
    "imp_mode = SimpleImputer(missing_values=np.nan, strategy='most_frequent')\n",
    "df_database['Children'] = imp_mode.fit_transform(df_database[['Children']]).ravel()\n",
    "\n",
    "df_database.isna().sum()"
   ]
  },
  {
   "cell_type": "markdown",
   "metadata": {},
   "source": [
    "# 6. Clustering LOB Variable"
   ]
  },
  {
   "cell_type": "markdown",
   "metadata": {},
   "source": [
    "## 6.1 Data transformation"
   ]
  },
  {
   "cell_type": "markdown",
   "metadata": {},
   "source": [
    "#### We use quantile Transformer in order to have all the variables at the same scales and same dispersal"
   ]
  },
  {
   "cell_type": "code",
   "execution_count": 68,
   "metadata": {},
   "outputs": [
    {
     "data": {
      "text/plain": [
       "<matplotlib.axes._subplots.AxesSubplot at 0x1f419da1348>"
      ]
     },
     "execution_count": 68,
     "metadata": {},
     "output_type": "execute_result"
    },
    {
     "data": {
      "image/png": "[encoded data removed]",
      "text/plain": [
       "<Figure size 1008x432 with 1 Axes>"
      ]
     },
     "metadata": {
      "needs_background": "light"
     },
     "output_type": "display_data"
    }
   ],
   "source": [
    "ScaledProdValues = df_database[['P_Motor', 'P_Household', 'P_Health', 'P_Life', 'P_Work']]\n",
    "qt = QuantileTransformer(n_quantiles=100, output_distribution='normal', random_state=333)\n",
    "ScaledProdValues = pd.DataFrame(qt.fit_transform(ScaledProdValues), columns = ['P_MotorSC', 'P_HouseholdSC', 'P_HealthSC', 'P_LifeSC', 'P_WorkSC']).set_index(df_database.index)\n",
    "\n",
    "plt.figure(figsize=(14,6))\n",
    "sb.distplot(ScaledProdValues['P_MotorSC']).set_title(\"Distribution of Standardized Variables\")\n",
    "sb.distplot(ScaledProdValues['P_HouseholdSC'])\n",
    "sb.distplot(ScaledProdValues['P_HealthSC'])\n",
    "sb.distplot(ScaledProdValues['P_LifeSC'])\n",
    "sb.distplot(ScaledProdValues['P_WorkSC'])"
   ]
  },
  {
   "cell_type": "markdown",
   "metadata": {},
   "source": [
    "## 6.2 Define Number of Clusters"
   ]
  },
  {
   "cell_type": "markdown",
   "metadata": {},
   "source": [
    "### 6.2.1 Elbow Graph"
   ]
  },
  {
   "cell_type": "code",
   "execution_count": 69,
   "metadata": {},
   "outputs": [
    {
     "data": {
      "image/png": "[encoded data removed]",
      "text/plain": [
       "<Figure size 720x432 with 1 Axes>"
      ]
     },
     "metadata": {
      "needs_background": "light"
     },
     "output_type": "display_data"
    }
   ],
   "source": [
    "variability = []\n",
    "\n",
    "for i in range(1, 12):\n",
    "    kmeans = KMeans(n_clusters=i, max_iter=1000, n_init=20)\n",
    "    kmeans.fit(ScaledProdValues)\n",
    "    variability.append(kmeans.inertia_)\n",
    "plt.figure(figsize=(10,6))\n",
    "plt.plot(range(1, 12), variability, marker = '*')\n",
    "plt.title('Elbow Method')\n",
    "plt.xlabel('Number of clusters')\n",
    "plt.ylabel('variability')\n",
    "plt.show()"
   ]
  },
  {
   "cell_type": "markdown",
   "metadata": {},
   "source": [
    "### 6.2.2 Silhouette Score"
   ]
  },
  {
   "cell_type": "code",
   "execution_count": 70,
   "metadata": {},
   "outputs": [
    {
     "name": "stdout",
     "output_type": "stream",
     "text": [
      "For 2 clusters The average silhouette_score is : 0.3324\n",
      "For 3 clusters The average silhouette_score is : 0.2496\n",
      "For 4 clusters The average silhouette_score is : 0.2175\n",
      "For 5 clusters The average silhouette_score is : 0.196\n"
     ]
    }
   ],
   "source": [
    "n_clusters = [2,3,4,5]\n",
    "for i in range(0,len(n_clusters)):\n",
    "    kmeans = KMeans(n_clusters=n_clusters[i], init='k-means++', max_iter=1000, n_init=20)\n",
    "    kmeans.fit(ScaledProdValues)\n",
    "    silhouette_avg = silhouette_score(ScaledProdValues, kmeans.labels_)\n",
    "    print(\"For\", n_clusters[i], \"clusters The average silhouette_score is :\", round(silhouette_avg,4))"
   ]
  },
  {
   "cell_type": "code",
   "execution_count": 71,
   "metadata": {},
   "outputs": [
    {
     "data": {
      "image/png": "[encoded data removed]",
      "text/plain": [
       "<Figure size 432x288 with 1 Axes>"
      ]
     },
     "metadata": {
      "needs_background": "light"
     },
     "output_type": "display_data"
    },
    {
     "data": {
      "image/png": "[encoded data removed]",
      "text/plain": [
       "<Figure size 432x288 with 1 Axes>"
      ]
     },
     "metadata": {
      "needs_background": "light"
     },
     "output_type": "display_data"
    }
   ],
   "source": [
    "n_clusters = 2\n",
    "kmeans = KMeans(n_clusters=n_clusters, init='k-means++', max_iter=1000, n_init=20, random_state=1998)\n",
    "kmeans.fit(ScaledProdValues)\n",
    "sample_silhouette_values = silhouette_samples(ScaledProdValues, kmeans.labels_)\n",
    "cluster_labels = kmeans.labels_\n",
    "\n",
    "y_lower = 100\n",
    "fig = plt.figure()\n",
    "ax1 = fig.add_subplot(111)\n",
    "for i in range(n_clusters):\n",
    "    ith_cluster_silhouette_values = sample_silhouette_values[cluster_labels == i]\n",
    "    ith_cluster_silhouette_values.sort()\n",
    "    size_cluster_i=ith_cluster_silhouette_values. shape[0]\n",
    "    y_upper = y_lower + size_cluster_i\n",
    "    color = cm.nipy_spectral(float(i) / n_clusters)\n",
    "    ax1.fill_betweenx(np.arange(y_lower, y_upper),\n",
    "                          0, ith_cluster_silhouette_values,\n",
    "                          facecolor=color, edgecolor=color, alpha=0.7)\n",
    "    # Label the silhouette plots with their cluster numbers at the middle\n",
    "    ax1.text(-0.05, y_lower + 0.5 * size_cluster_i, str(i))\n",
    "    # Compute the new y_lower for next plot\n",
    "    y_lower = y_upper + 10  # 10 for the 0 samples\n",
    "    \n",
    "n_clusters = 3\n",
    "kmeans = KMeans(n_clusters=n_clusters, init='k-means++', max_iter=1000, n_init=20, random_state=1998)\n",
    "kmeans.fit(ScaledProdValues)\n",
    "sample_silhouette_values = silhouette_samples(ScaledProdValues, kmeans.labels_)\n",
    "cluster_labels = kmeans.labels_\n",
    "y_lower = 100\n",
    "fig = plt.figure()\n",
    "ax2 = fig.add_subplot(111)\n",
    "for i in range(n_clusters):\n",
    "    ith_cluster_silhouette_values = sample_silhouette_values[cluster_labels == i]\n",
    "    ith_cluster_silhouette_values.sort()\n",
    "    size_cluster_i=ith_cluster_silhouette_values. shape[0]\n",
    "    y_upper = y_lower + size_cluster_i\n",
    "    color = cm.nipy_spectral(float(i) / n_clusters)\n",
    "    ax2.fill_betweenx(np.arange(y_lower, y_upper),\n",
    "                          0, ith_cluster_silhouette_values,\n",
    "                          facecolor=color, edgecolor=color, alpha=0.7)\n",
    "    # Label the silhouette plots with their cluster numbers at the middle\n",
    "    ax2.text(-0.05, y_lower + 0.5 * size_cluster_i, str(i))\n",
    "    # Compute the new y_lower for next plot\n",
    "    y_lower = y_upper + 10  # 10 for the 0 samples\n"
   ]
  },
  {
   "cell_type": "markdown",
   "metadata": {},
   "source": [
    "### 6.2.3 Factorial Analysis"
   ]
  },
  {
   "cell_type": "code",
   "execution_count": 72,
   "metadata": {},
   "outputs": [],
   "source": [
    "#Factorial Analysis\n",
    "\n",
    "#Bartlett’s test of sphericity checks whether or not the observed variables intercorrelate at all using \n",
    "#the observed correlation matrix against the identity matrix. If the test found statistically insignificant, \n",
    "#you should not employ a factor analysis.\n",
    "#chi_square_value,p_value=calculate_bartlett_sphericity(ScaledProdValues)\n",
    "#chi_square_value, p_value"
   ]
  },
  {
   "cell_type": "code",
   "execution_count": 73,
   "metadata": {},
   "outputs": [
    {
     "name": "stderr",
     "output_type": "stream",
     "text": [
      "C:\\Users\\gsmfa\\Anaconda3\\lib\\site-packages\\factor_analyzer\\factor_analyzer.py:626: UserWarning: No rotation will be performed when the number of factors equals 1.\n",
      "  warnings.warn('No rotation will be performed when '\n"
     ]
    },
    {
     "data": {
      "image/png": "[encoded data removed]",
      "text/plain": [
       "<Figure size 1008x432 with 1 Axes>"
      ]
     },
     "metadata": {
      "needs_background": "light"
     },
     "output_type": "display_data"
    },
    {
     "name": "stdout",
     "output_type": "stream",
     "text": [
      "                   Fat1\n",
      "P_MotorSC     -1.023204\n",
      "P_HouseholdSC  0.628487\n",
      "P_HealthSC     0.471586\n",
      "P_LifeSC       0.640011\n",
      "P_WorkSC       0.629646\n"
     ]
    }
   ],
   "source": [
    "\n",
    "# Create factor analysis object and perform factor analysis\n",
    "fa = FactorAnalyzer(n_factors= 1)\n",
    "fa.fit(ScaledProdValues)\n",
    "# Check Eigenvalues\n",
    "ev, v = fa.get_eigenvalues()\n",
    "\n",
    "#Analysing the egenvalues to dicide the number of factor that we can have Lambda >= 1\n",
    "plt.figure(figsize=(14,6))\n",
    "plt.scatter(range(1,ScaledProdValues.shape[1]+1),ev)\n",
    "plt.plot(range(1,ScaledProdValues.shape[1]+1),ev)\n",
    "plt.title('Eigenvalue Plot')\n",
    "plt.xlabel('Factors')\n",
    "plt.ylabel('Eigenvalue')\n",
    "plt.grid()\n",
    "plt.show()\n",
    "\n",
    "FatAna = pd.DataFrame(fa.loadings_, columns=[\"Fat1\"], index = ScaledProdValues.columns)\n",
    "print(FatAna)"
   ]
  },
  {
   "cell_type": "markdown",
   "metadata": {},
   "source": [
    "#### Looking at the factor analysis we only have one egenvalue above 1 and the releations between the variables show us that if the customer spend money in Motor he will spend less money in the others premiums and the other way round as well"
   ]
  },
  {
   "cell_type": "markdown",
   "metadata": {},
   "source": [
    "#### Looking at the silhouette score, the elbow graph and FA we decide to start our analysis with 2 clusters"
   ]
  },
  {
   "cell_type": "markdown",
   "metadata": {},
   "source": [
    "## 6.3 Evaluating techniques"
   ]
  },
  {
   "cell_type": "markdown",
   "metadata": {},
   "source": [
    "### 6.3.1 Kmeans ++"
   ]
  },
  {
   "cell_type": "code",
   "execution_count": 74,
   "metadata": {},
   "outputs": [
    {
     "name": "stdout",
     "output_type": "stream",
     "text": [
      "            P_MotorSC  P_HouseholdSC  P_HealthSC  P_LifeSC  P_WorkSC  size\n",
      "ClusterLob                                                                \n",
      "0            0.862869      -0.685535   -0.595799 -0.749718 -0.708383  4477\n",
      "1           -0.672348       0.520186    0.457176  0.551830  0.532731  5779\n"
     ]
    }
   ],
   "source": [
    "kmeans = KMeans(n_clusters=2, init='k-means++', max_iter=1000, n_init=20, random_state=1998)\n",
    "Clusters = pd.DataFrame(kmeans.fit_predict(ScaledProdValues),columns = ['ClusterLob'], index = ScaledProdValues.index)\n",
    "\n",
    "# Hierarchical centroids\n",
    "CentersLOB_STD = ScaledProdValues.merge(Clusters,left_index=True, right_index=True)\n",
    "CentersLOB_STD = CentersLOB_STD.groupby('ClusterLob').agg(P_MotorSC=('P_MotorSC', 'mean'), \n",
    "                                                          P_HouseholdSC=('P_HouseholdSC', 'mean'),\n",
    "                                                          P_HealthSC=('P_HealthSC', 'mean'),\n",
    "                                                          P_LifeSC=('P_LifeSC', 'mean'),\n",
    "                                                          P_WorkSC=('P_WorkSC', 'mean'),\n",
    "                                                          size=('ClusterLob', 'size'))\n",
    "                                                                \n",
    "CentersLOB = df_database.merge(Clusters,left_index=True, right_index=True)\n",
    "CentersLOB = CentersLOB.groupby('ClusterLob').agg(P_Motor=('P_Motor', 'mean'), \n",
    "                                                                P_Household=('P_Household', 'mean'),\n",
    "                                                                P_Health=('P_Health', 'mean'),\n",
    "                                                                P_Life=('P_Life', 'mean'),\n",
    "                                                                P_Work=('P_Work', 'mean'),\n",
    "                                                                size=('ClusterLob', 'size'))\n",
    "\n",
    "#calinski The index is the ratio of the sum of between-clusters dispersion and of inter-cluster dispersion for all clusters (where dispersion is defined as the sum of distances squared\n",
    "silhouette_KM = round(silhouette_score(ScaledProdValues, kmeans.labels_),2)\n",
    "calinski_KM = round(metrics.calinski_harabasz_score(ScaledProdValues, kmeans.labels_),0)\n",
    "\n",
    "print(CentersLOB_STD)"
   ]
  },
  {
   "cell_type": "markdown",
   "metadata": {},
   "source": [
    "### 6.3.2 Hierarchical"
   ]
  },
  {
   "cell_type": "code",
   "execution_count": 75,
   "metadata": {},
   "outputs": [
    {
     "name": "stdout",
     "output_type": "stream",
     "text": [
      "            P_MotorSC  P_HouseholdSC  P_HealthSC  P_LifeSC  P_WorkSC  size\n",
      "ClusterLob                                                                \n",
      "0           -0.304487       0.245120    0.252032  0.226995  0.191367  8386\n",
      "1            1.353472      -1.132922   -1.143803 -1.107507 -0.907795  1870\n"
     ]
    }
   ],
   "source": [
    "k=2\n",
    "Hclustering = AgglomerativeClustering(n_clusters=k, affinity='euclidean', linkage='ward')\n",
    "HierarcCluster = pd.DataFrame(Hclustering.fit_predict(ScaledProdValues),columns = ['ClusterLob'], index = ScaledProdValues.index)\n",
    "\n",
    "# Hierarchical centroids\n",
    "CentersLOB_STD_HC = ScaledProdValues.merge(HierarcCluster,left_index=True, right_index=True)\n",
    "CentersLOB_STD_HC = CentersLOB_STD_HC.groupby('ClusterLob').agg(P_MotorSC=('P_MotorSC', 'mean'), \n",
    "                                                                P_HouseholdSC=('P_HouseholdSC', 'mean'),\n",
    "                                                                P_HealthSC=('P_HealthSC', 'mean'),\n",
    "                                                                P_LifeSC=('P_LifeSC', 'mean'),\n",
    "                                                                P_WorkSC=('P_WorkSC', 'mean'),\n",
    "                                                                size=('ClusterLob', 'size'))\n",
    "                                                                \n",
    "CentersLOB_HC = df_database.merge(HierarcCluster,left_index=True, right_index=True)\n",
    "CentersLOB_HC = CentersLOB_HC.groupby('ClusterLob').agg(P_Motor=('P_Motor', 'mean'), \n",
    "                                                                P_Household=('P_Household', 'mean'),\n",
    "                                                                P_Health=('P_Health', 'mean'),\n",
    "                                                                P_Life=('P_Life', 'mean'),\n",
    "                                                                P_Work=('P_Work', 'mean'),\n",
    "                                                                size=('ClusterLob', 'size'))\n",
    "\n",
    "silhouette_HC = round(silhouette_score(ScaledProdValues, Hclustering.labels_),2)\n",
    "calinski_HC = round(metrics.calinski_harabasz_score(ScaledProdValues, Hclustering.labels_),0)\n",
    "\n",
    "print(CentersLOB_STD_HC)"
   ]
  },
  {
   "cell_type": "markdown",
   "metadata": {},
   "source": [
    "### 6.3.3 Mean Shift"
   ]
  },
  {
   "cell_type": "code",
   "execution_count": 76,
   "metadata": {},
   "outputs": [
    {
     "name": "stdout",
     "output_type": "stream",
     "text": [
      "            P_MotorSC  P_HouseholdSC  P_HealthSC  P_LifeSC  P_WorkSC  size\n",
      "ClusterLob                                                                \n",
      "0           -0.037190       0.028423    0.042352  0.052565  0.032599  9964\n",
      "1            1.686916      -0.982533   -1.469493 -3.006942 -1.150446   210\n",
      "2           -2.532775      -0.814651   -2.105399 -0.583325 -0.973631    33\n",
      "3            1.813415      -2.536844   -1.526613 -1.109635 -3.138955    46\n",
      "4           -1.988081       1.241155    0.309413  3.510367  0.173419     3\n"
     ]
    }
   ],
   "source": [
    "bandwidth = estimate_bandwidth(ScaledProdValues, quantile=0.5, n_samples=1000)\n",
    "MeanShiftClustering = MeanShift(bandwidth=bandwidth, bin_seeding=True)\n",
    "MShiftCluster = pd.DataFrame(MeanShiftClustering.fit_predict(ScaledProdValues),columns = ['ClusterLob'], index = ScaledProdValues.index)\n",
    "\n",
    "\n",
    "# Mean Shift centroids\n",
    "CentersLOB_STD_MS = ScaledProdValues.merge(MShiftCluster, left_index=True, right_index=True)\n",
    "CentersLOB_STD_MS = CentersLOB_STD_MS.groupby('ClusterLob').agg(P_MotorSC=('P_MotorSC', 'mean'), \n",
    "                                                                P_HouseholdSC=('P_HouseholdSC', 'mean'),\n",
    "                                                                P_HealthSC=('P_HealthSC', 'mean'),\n",
    "                                                                P_LifeSC=('P_LifeSC', 'mean'),\n",
    "                                                                P_WorkSC=('P_WorkSC', 'mean'),\n",
    "                                                                size=('ClusterLob', 'size'))\n",
    "                                                                \n",
    "CentersLOB_MS = df_database.merge(MShiftCluster,left_index=True, right_index=True)\n",
    "CentersLOB_MS = CentersLOB_MS.groupby('ClusterLob').agg(P_Motor=('P_Motor', 'mean'), \n",
    "                                                                P_Household=('P_Household', 'mean'),\n",
    "                                                                P_Health=('P_Health', 'mean'),\n",
    "                                                                P_Life=('P_Life', 'mean'),\n",
    "                                                                P_Work=('P_Work', 'mean'),\n",
    "                                                                size=('ClusterLob', 'size'))\n",
    "\n",
    "    \n",
    "# Mean Shift scores\n",
    "silhouette_MS = round(silhouette_score(ScaledProdValues, MeanShiftClustering.labels_),2)\n",
    "calinski_MS = round(metrics.calinski_harabasz_score(ScaledProdValues, MeanShiftClustering.labels_),0)\n",
    "\n",
    "print(CentersLOB_STD_MS)"
   ]
  },
  {
   "cell_type": "markdown",
   "metadata": {},
   "source": [
    "### 6.3.4 DBScan"
   ]
  },
  {
   "cell_type": "code",
   "execution_count": 77,
   "metadata": {},
   "outputs": [
    {
     "data": {
      "image/png": "[encoded data removed]",
      "text/plain": [
       "<Figure size 432x288 with 1 Axes>"
      ]
     },
     "metadata": {
      "needs_background": "light"
     },
     "output_type": "display_data"
    }
   ],
   "source": [
    "## Estimating radius through N-Neighbors\n",
    "ns = 100\n",
    "nbrs = NearestNeighbors(n_neighbors=ns).fit(ScaledProdValues)\n",
    "distances, indices = nbrs.kneighbors(ScaledProdValues)\n",
    "distanceDe = sorted(distances[:,ns-1], reverse=True)\n",
    "plt.plot(distanceDe)\n",
    "\n",
    "plt.ylabel('Average Distance to k nearest neighbors')\n",
    "plt.xlabel(['Data Points'])\n",
    "plt.show() \n",
    "    \n"
   ]
  },
  {
   "cell_type": "code",
   "execution_count": 78,
   "metadata": {},
   "outputs": [
    {
     "name": "stdout",
     "output_type": "stream",
     "text": [
      "            P_MotorSC  P_HouseholdSC  P_HealthSC  P_LifeSC  P_WorkSC  size\n",
      "ClusterLob                                                                \n",
      "-1          -0.468166       0.080273   -0.116366 -0.017630  0.058260  1808\n",
      " 0           0.101483      -0.022706    0.027861 -0.013847 -0.021444  8425\n",
      " 1          -2.955802      -1.220640   -3.166940 -1.470545 -1.335178    12\n",
      " 2          -1.855348       1.997325    0.420538  1.072571  0.924673     5\n",
      " 3           2.293917      -2.026995   -2.301822 -1.107749 -1.007008     6\n"
     ]
    }
   ],
   "source": [
    "## DBScan with variables\n",
    "DBScanClustering = DBSCAN(eps=0.5, min_samples=10).fit(ScaledProdValues)\n",
    "DBScanCluster = pd.DataFrame(DBScanClustering.fit_predict(ScaledProdValues),columns = ['ClusterLob'], index = ScaledProdValues.index)\n",
    "\n",
    "CentersLOB_STD_DB = ScaledProdValues.merge(DBScanCluster, left_index=True, right_index=True)\n",
    "CentersLOB_STD_DB = CentersLOB_STD_DB.groupby('ClusterLob').agg(P_MotorSC=('P_MotorSC', 'mean'), \n",
    "                                                                P_HouseholdSC=('P_HouseholdSC', 'mean'),\n",
    "                                                                P_HealthSC=('P_HealthSC', 'mean'),\n",
    "                                                                P_LifeSC=('P_LifeSC', 'mean'),\n",
    "                                                                P_WorkSC=('P_WorkSC', 'mean'),\n",
    "                                                                size=('ClusterLob', 'size'))\n",
    "                                                                \n",
    "CentersLOB_DB = df_database.merge(DBScanCluster,left_index=True, right_index=True)\n",
    "CentersLOB_DB = CentersLOB_DB.groupby('ClusterLob').agg(P_Motor=('P_Motor', 'mean'), \n",
    "                                                                P_Household=('P_Household', 'mean'),\n",
    "                                                                P_Health=('P_Health', 'mean'),\n",
    "                                                                P_Life=('P_Life', 'mean'),\n",
    "                                                                P_Work=('P_Work', 'mean'),\n",
    "                                                                size=('ClusterLob', 'size'))\n",
    "\n",
    "\n",
    "# DBSCAN scores\n",
    "silhouette_DB = round(silhouette_score(ScaledProdValues, DBScanClustering.labels_),2)\n",
    "calinski_DB = round(metrics.calinski_harabasz_score(ScaledProdValues, DBScanClustering.labels_),0)\n",
    "\n",
    "print(CentersLOB_STD_DB)"
   ]
  },
  {
   "cell_type": "code",
   "execution_count": 79,
   "metadata": {},
   "outputs": [
    {
     "name": "stdout",
     "output_type": "stream",
     "text": [
      "  ClusterMethod  NClusters  SilhouetteScore  CalinskiScore\n",
      "0      Kmeans++          2             0.33         6520.0\n",
      "1   Hierarchial          2             0.30         3928.0\n",
      "2    Mean Shift          5             0.25          270.0\n",
      "3        DBSCAN          5            -0.03           48.0\n"
     ]
    }
   ],
   "source": [
    "ClusterMethod = ['Kmeans++', 'Hierarchial', 'Mean Shift', 'DBSCAN']\n",
    "NClusters = [len(CentersLOB), len(CentersLOB_HC), len(CentersLOB_MS),len(CentersLOB_DB)]\n",
    "SilhouetteScore = [silhouette_KM, silhouette_HC, silhouette_MS, silhouette_DB]\n",
    "CalinskiScore = [calinski_KM, calinski_HC, calinski_MS, calinski_DB]\n",
    "\n",
    "EvaluateScore = pd.DataFrame({'ClusterMethod': ClusterMethod, 'NClusters': NClusters, 'SilhouetteScore': SilhouetteScore, 'CalinskiScore': CalinskiScore}) \n",
    "print(EvaluateScore)"
   ]
  },
  {
   "cell_type": "markdown",
   "metadata": {},
   "source": [
    "#### at the end the best aproach was Kmeans++"
   ]
  },
  {
   "cell_type": "markdown",
   "metadata": {},
   "source": [
    "## 6.4 applying Kmeans++"
   ]
  },
  {
   "cell_type": "code",
   "execution_count": 80,
   "metadata": {},
   "outputs": [],
   "source": [
    "# New DF with a cluster column\n",
    "Cluster_db = df_database.merge(Clusters,left_index=True, right_index=True)"
   ]
  },
  {
   "cell_type": "code",
   "execution_count": 81,
   "metadata": {},
   "outputs": [
    {
     "name": "stdout",
     "output_type": "stream",
     "text": [
      "            P_MotorSC  P_HouseholdSC  P_HealthSC  P_LifeSC  P_WorkSC  size\n",
      "ClusterLob                                                                \n",
      "0            0.862869      -0.685535   -0.595799 -0.749718 -0.708383  4477\n",
      "1           -0.672348       0.520186    0.457176  0.551830  0.532731  5779\n"
     ]
    }
   ],
   "source": [
    "print(CentersLOB_STD)"
   ]
  },
  {
   "cell_type": "code",
   "execution_count": 82,
   "metadata": {},
   "outputs": [
    {
     "name": "stdout",
     "output_type": "stream",
     "text": [
      "               P_Motor  P_Household    P_Health     P_Life     P_Work  size\n",
      "ClusterLob                                                                 \n",
      "0           422.561834    66.387927  122.733444  12.863027  13.050197  4477\n",
      "1           198.470142   313.312494  201.920716  63.546139  61.743758  5779\n"
     ]
    }
   ],
   "source": [
    "print(CentersLOB)"
   ]
  },
  {
   "cell_type": "markdown",
   "metadata": {},
   "source": [
    "#### Looking at the centroids again we basically confirm the Fatorial analysis, we can notice that we have a cluster who spend more in motor and a cluster that spend more in the others products. So we will label this clusters as Motors and Life Care"
   ]
  },
  {
   "cell_type": "code",
   "execution_count": 83,
   "metadata": {},
   "outputs": [],
   "source": [
    "Cluster_db[\"ClusterLob\"] = Cluster_db[\"ClusterLob\"].replace(to_replace={0:'Motors',1: 'Life Care'})"
   ]
  },
  {
   "cell_type": "code",
   "execution_count": 86,
   "metadata": {},
   "outputs": [
    {
     "data": {
      "application/vnd.jupyter.widget-view+json": {
       "model_id": "5e470fcb12494409a741657b7d903644",
       "version_major": 2,
       "version_minor": 0
      },
      "text/plain": [
       "interactive(children=(Dropdown(description='indicator', options=('P_Motor', 'P_Household', 'P_Health', 'P_Life…"
      ]
     },
     "metadata": {},
     "output_type": "display_data"
    }
   ],
   "source": [
    "@interact\n",
    "def plt_distro(indicator=['P_Motor', 'P_Household', 'P_Health', 'P_Life', 'P_Work']):\n",
    "    plt.figure(figsize=(12,5))\n",
    "    return sb.boxplot(x = indicator, y = 'ClusterLob', data =Cluster_db).set_title('Distribution by Cluster')"
   ]
  },
  {
   "cell_type": "markdown",
   "metadata": {},
   "source": [
    "# 7. Clustering Engage Variables"
   ]
  },
  {
   "cell_type": "markdown",
   "metadata": {},
   "source": [
    "## 7.1 Discrete Variables (KModes)"
   ]
  },
  {
   "cell_type": "code",
   "execution_count": 87,
   "metadata": {},
   "outputs": [
    {
     "name": "stdout",
     "output_type": "stream",
     "text": [
      "   Children  GeographicLivingArea  EducationalDegree  Label  Number\n",
      "0       1.0                   1.0                3.0      0    5947\n",
      "1       0.0                   4.0                2.0      1    2027\n",
      "2       1.0                   4.0                2.0      2    2282\n"
     ]
    }
   ],
   "source": [
    "df_engage = df_database.loc[:,['Children', 'GeographicLivingArea' ,  'EducationalDegree']]\n",
    "\n",
    "km = KModes(n_clusters=3, init='random', n_init=40, max_iter =600,  verbose=0, random_state = 100)\n",
    "ClustersEngC = km.fit_predict(df_engage)\n",
    "\n",
    "# Print the cluster centroids\n",
    "CentersEngC = pd.DataFrame(km.cluster_centroids_, columns = ['Children', 'GeographicLivingArea', 'EducationalDegree'])\n",
    "unique, counts = np.unique(km.labels_, return_counts=True)\n",
    "counts = pd.DataFrame(np.asarray((unique, counts)).T, columns = ['Label','Number'])\n",
    "CentersEngC = pd.concat([CentersEngC, counts], axis = 1)\n",
    "ClustersEngC = pd.DataFrame(ClustersEngC, columns = ['ClusterEngageC']).set_index(df_engage.index)\n",
    "\n",
    "print(CentersEngC)\n"
   ]
  },
  {
   "cell_type": "code",
   "execution_count": 88,
   "metadata": {},
   "outputs": [],
   "source": [
    "Cluster_db = Cluster_db.merge(ClustersEngC ,left_index=True, right_index=True)"
   ]
  },
  {
   "cell_type": "code",
   "execution_count": 92,
   "metadata": {
    "scrolled": false
   },
   "outputs": [
    {
     "data": {
      "application/vnd.jupyter.widget-view+json": {
       "model_id": "76f77952c60f45ab9d8802d3ed176202",
       "version_major": 2,
       "version_minor": 0
      },
      "text/plain": [
       "interactive(children=(Dropdown(description='indicator', options=('Children', 'GeographicLivingArea', 'Educatio…"
      ]
     },
     "metadata": {},
     "output_type": "display_data"
    }
   ],
   "source": [
    "@interact\n",
    "def plt_distro(indicator=['Children', 'GeographicLivingArea', 'EducationalDegree']):\n",
    "    x = Cluster_db.groupby(['ClusterEngageC', indicator], as_index = False)['CustomerIdentity'].count()\n",
    "    plt.figure(figsize=(10,5))\n",
    "    return sb.barplot(x=\"ClusterEngageC\", y=\"CustomerIdentity\", hue=indicator, data=x).set_title('Distribution by Cluester')"
   ]
  },
  {
   "cell_type": "markdown",
   "metadata": {},
   "source": [
    "#### Taking into account the distribution of discrete variables, we label the clusters as  0 = Has Kids and BSc/MSc', 1 = 'No kids' and 2 = 'Has Kids and High-School."
   ]
  },
  {
   "cell_type": "code",
   "execution_count": 93,
   "metadata": {},
   "outputs": [],
   "source": [
    "Cluster_db[\"ClusterEngageC\"] = Cluster_db[\"ClusterEngageC\"].replace(to_replace={0:'Has Kids and BSc/MSc',1:'No kids', 2:'Has Kids and High-School'})"
   ]
  },
  {
   "cell_type": "markdown",
   "metadata": {},
   "source": [
    "## 7.2 Numerical Variables (KMeans)"
   ]
  },
  {
   "cell_type": "markdown",
   "metadata": {},
   "source": [
    "### 7.2.1 Selecting Variables"
   ]
  },
  {
   "cell_type": "code",
   "execution_count": 94,
   "metadata": {},
   "outputs": [
    {
     "data": {
      "text/plain": [
       "<matplotlib.axes._subplots.AxesSubplot at 0x1f41904a248>"
      ]
     },
     "execution_count": 94,
     "metadata": {},
     "output_type": "execute_result"
    },
    {
     "data": {
      "image/png": "[encoded data removed]",
      "text/plain": [
       "<Figure size 720x360 with 1 Axes>"
      ]
     },
     "metadata": {
      "needs_background": "light"
     },
     "output_type": "display_data"
    }
   ],
   "source": [
    "EngageNumeric = df_database[['GrossMonthlySalary', 'CustomerMonetaryValue']]\n",
    "\n",
    "qt = QuantileTransformer(n_quantiles=100, output_distribution='normal', random_state=333)\n",
    "EngageNumeric = pd.DataFrame(qt.fit_transform(EngageNumeric), columns = ['GrossMonthlySalary', 'CustomerMonetaryValue']).set_index(df_database.index)\n",
    "\n",
    "plt.figure(figsize=(10,5))\n",
    "sb.distplot(EngageNumeric['GrossMonthlySalary'])\n",
    "sb.distplot(EngageNumeric['CustomerMonetaryValue'])"
   ]
  },
  {
   "cell_type": "code",
   "execution_count": 95,
   "metadata": {},
   "outputs": [
    {
     "data": {
      "image/png": "[encoded data removed]",
      "text/plain": [
       "<Figure size 720x360 with 1 Axes>"
      ]
     },
     "metadata": {
      "needs_background": "light"
     },
     "output_type": "display_data"
    }
   ],
   "source": [
    "###Elbow Graph\n",
    "variability = []\n",
    "for i in range(1, 12):\n",
    "    kmeans = KMeans(n_clusters=i, init='k-means++', max_iter=100, n_init=20)\n",
    "    kmeans.fit(EngageNumeric)\n",
    "    variability.append(kmeans.inertia_)\n",
    "plt.figure(figsize=(10,5))\n",
    "plt.plot(range(1, 12), variability, marker = '*')\n",
    "plt.title('Elbow Method')\n",
    "plt.xlabel('Number of clusters')\n",
    "plt.ylabel('variability')\n",
    "plt.show()"
   ]
  },
  {
   "cell_type": "code",
   "execution_count": 96,
   "metadata": {},
   "outputs": [
    {
     "name": "stdout",
     "output_type": "stream",
     "text": [
      "For n_clusters = 2 The average silhouette_score is : 0.3194058823496944\n",
      "For n_clusters = 3 The average silhouette_score is : 0.3450095257988033\n",
      "For n_clusters = 4 The average silhouette_score is : 0.32431151137853215\n",
      "For n_clusters = 5 The average silhouette_score is : 0.3223881210647494\n",
      "For n_clusters = 6 The average silhouette_score is : 0.3347190249142602\n"
     ]
    },
    {
     "data": {
      "image/png": "[encoded data removed]",
      "text/plain": [
       "<Figure size 432x288 with 1 Axes>"
      ]
     },
     "metadata": {
      "needs_background": "light"
     },
     "output_type": "display_data"
    }
   ],
   "source": [
    "\n",
    "#5.4 silhouette value and Plot\n",
    "n_clusters = [2,3,4,5,6]\n",
    "for i in range(0,len(n_clusters)):\n",
    "    kmeans = KMeans(n_clusters=n_clusters[i], init='k-means++', max_iter=1000, n_init=20)\n",
    "    kmeans.fit(EngageNumeric)\n",
    "    silhouette_avg = silhouette_score(EngageNumeric, kmeans.labels_)\n",
    "    print(\"For n_clusters =\", n_clusters[i], \"The average silhouette_score is :\", silhouette_avg)\n",
    "\n",
    "    \n",
    "n_clusters = 3\n",
    "kmeans = KMeans(n_clusters=n_clusters, init='k-means++', max_iter=1000, n_init=20, random_state=1998)\n",
    "kmeans.fit(EngageNumeric)\n",
    "sample_silhouette_values = silhouette_samples(EngageNumeric, kmeans.labels_)\n",
    "cluster_labels = kmeans.labels_\n",
    "import matplotlib.cm as cm\n",
    "y_lower = 100\n",
    "fig = plt.figure()\n",
    "ax1 = fig.add_subplot(111)\n",
    "for i in range(n_clusters):\n",
    "    ith_cluster_silhouette_values = sample_silhouette_values[cluster_labels == i]\n",
    "    ith_cluster_silhouette_values.sort()\n",
    "    size_cluster_i=ith_cluster_silhouette_values. shape[0]\n",
    "    y_upper = y_lower + size_cluster_i\n",
    "    color = cm.nipy_spectral(float(i) / n_clusters)\n",
    "    ax1.fill_betweenx(np.arange(y_lower, y_upper),\n",
    "                          0, ith_cluster_silhouette_values,\n",
    "                          facecolor=color, edgecolor=color, alpha=0.7)\n",
    "    # Label the silhouette plots with their cluster numbers at the middle\n",
    "    ax1.text(-0.05, y_lower + 0.5 * size_cluster_i, str(i))\n",
    "    # Compute the new y_lower for next plot\n",
    "    y_lower = y_upper + 10  # 10 for the 0 samples\n",
    "    "
   ]
  },
  {
   "cell_type": "code",
   "execution_count": 97,
   "metadata": {},
   "outputs": [
    {
     "name": "stderr",
     "output_type": "stream",
     "text": [
      "C:\\Users\\gsmfa\\Anaconda3\\lib\\site-packages\\ipykernel_launcher.py:8: FutureWarning: Indexing with multiple keys (implicitly converted to a tuple of keys) will be deprecated, use a list instead.\n",
      "  \n",
      "C:\\Users\\gsmfa\\Anaconda3\\lib\\site-packages\\ipykernel_launcher.py:9: FutureWarning: Indexing with multiple keys (implicitly converted to a tuple of keys) will be deprecated, use a list instead.\n",
      "  if __name__ == '__main__':\n"
     ]
    }
   ],
   "source": [
    "####### 5.5 Clustering\n",
    "\n",
    "kmeans = KMeans(n_clusters=3, init='k-means++', max_iter=1000, n_init=20, random_state=1998)\n",
    "ClustersEngN = pd.DataFrame(kmeans.fit_predict(EngageNumeric), index = EngageNumeric.index)\n",
    "ClustersEngN.rename(columns = {0: 'ClusterEngageN'}, inplace = True)\n",
    "Cluster_ScaledE = EngageNumeric.merge(ClustersEngN, left_index=True, right_index=True)\n",
    "Cluster_db = Cluster_db.merge(ClustersEngN ,left_index=True, right_index=True)\n",
    "CentersEngN_STD = Cluster_ScaledE.groupby('ClusterEngageN')['GrossMonthlySalary', 'CustomerMonetaryValue'].mean()\n",
    "CentersEngN = Cluster_db.groupby('ClusterEngageN')['GrossMonthlySalary', 'CustomerMonetaryValue'].mean()\n"
   ]
  },
  {
   "cell_type": "code",
   "execution_count": 98,
   "metadata": {},
   "outputs": [
    {
     "name": "stdout",
     "output_type": "stream",
     "text": [
      "                GrossMonthlySalary  CustomerMonetaryValue\n",
      "ClusterEngageN                                           \n",
      "0                         1.052795              -0.196656\n",
      "1                        -0.349489               1.007723\n",
      "2                        -0.651991              -0.767502\n"
     ]
    }
   ],
   "source": [
    "print(CentersEngN_STD)"
   ]
  },
  {
   "cell_type": "code",
   "execution_count": 99,
   "metadata": {},
   "outputs": [
    {
     "name": "stdout",
     "output_type": "stream",
     "text": [
      "                GrossMonthlySalary  CustomerMonetaryValue\n",
      "ClusterEngageN                                           \n",
      "0                      3577.544602             153.477883\n",
      "1                      2141.013930             490.408056\n",
      "2                      1829.592168              18.371460\n"
     ]
    }
   ],
   "source": [
    "print(CentersEngN)"
   ]
  },
  {
   "cell_type": "code",
   "execution_count": 112,
   "metadata": {},
   "outputs": [
    {
     "name": "stderr",
     "output_type": "stream",
     "text": [
      "C:\\Users\\gsmfa\\Anaconda3\\lib\\site-packages\\ipykernel_launcher.py:4: UserWarning: Matplotlib is currently using module://ipykernel.pylab.backend_inline, which is a non-GUI backend, so cannot show the figure.\n",
      "  after removing the cwd from sys.path.\n"
     ]
    },
    {
     "data": {
      "image/png": "[encoded data removed]",
      "text/plain": [
       "<Figure size 864x360 with 2 Axes>"
      ]
     },
     "metadata": {
      "needs_background": "light"
     },
     "output_type": "display_data"
    }
   ],
   "source": [
    "fig, ax =plt.subplots(nrows=1, ncols=2, figsize=(12,5))\n",
    "ax1 = sb.scatterplot(x='GrossMonthlySalary', y='CustomerMonetaryValue' , hue='ClusterEngageN', data = Cluster_ScaledE, ax=ax[0])\n",
    "ax2 = sb.scatterplot(x='GrossMonthlySalary', y='CustomerMonetaryValue' , hue='ClusterEngageN', data = Cluster_db, ax=ax[1])\n",
    "fig.show()"
   ]
  },
  {
   "cell_type": "markdown",
   "metadata": {},
   "source": [
    "#### Taking into account the distribution of Salary and Monetary Value, we label the clusters as 0 = 'Silver - High Wages', 1 = 'Gold - AVG wages' and 2 = 'Broze - AVG wages'."
   ]
  },
  {
   "cell_type": "code",
   "execution_count": 113,
   "metadata": {},
   "outputs": [],
   "source": [
    "Cluster_db[\"ClusterEngageN\"] = Cluster_db[\"ClusterEngageN\"].replace(to_replace={1:'Gold - AVG wages',2:'Broze - AVG wages', 0:'Silver - High Wages'})"
   ]
  },
  {
   "cell_type": "code",
   "execution_count": 114,
   "metadata": {},
   "outputs": [
    {
     "data": {
      "text/plain": [
       "<matplotlib.axes._subplots.AxesSubplot at 0x1f418b19bc8>"
      ]
     },
     "execution_count": 114,
     "metadata": {},
     "output_type": "execute_result"
    },
    {
     "data": {
      "image/png": "[encoded data removed]",
      "text/plain": [
       "<Figure size 432x288 with 1 Axes>"
      ]
     },
     "metadata": {
      "needs_background": "light"
     },
     "output_type": "display_data"
    }
   ],
   "source": [
    "sb.boxplot(x='ClusterEngageN', y='CustomerMonetaryValue', data = Cluster_db)\n"
   ]
  },
  {
   "cell_type": "code",
   "execution_count": 115,
   "metadata": {},
   "outputs": [
    {
     "data": {
      "text/plain": [
       "<matplotlib.axes._subplots.AxesSubplot at 0x1f419460308>"
      ]
     },
     "execution_count": 115,
     "metadata": {},
     "output_type": "execute_result"
    },
    {
     "data": {
      "image/png": "[encoded data removed]",
      "text/plain": [
       "<Figure size 432x288 with 1 Axes>"
      ]
     },
     "metadata": {
      "needs_background": "light"
     },
     "output_type": "display_data"
    }
   ],
   "source": [
    "sb.boxplot(x='ClusterEngageN', y='GrossMonthlySalary', data = Cluster_db)"
   ]
  },
  {
   "cell_type": "markdown",
   "metadata": {},
   "source": [
    "# 8. Evaluating Clusters"
   ]
  },
  {
   "cell_type": "markdown",
   "metadata": {},
   "source": [
    "##### Now We will join the 3 segmantations and discribe the customers based on it. After that we appyed a decision tree to check if the clusters are well divided"
   ]
  },
  {
   "cell_type": "code",
   "execution_count": 116,
   "metadata": {},
   "outputs": [
    {
     "name": "stdout",
     "output_type": "stream",
     "text": [
      "Accuracy: 0.85\n",
      "Balanced Accuracy: 0.82\n"
     ]
    },
    {
     "data": {
      "text/html": [
       "<div>\n",
       "<style scoped>\n",
       "    .dataframe tbody tr th:only-of-type {\n",
       "        vertical-align: middle;\n",
       "    }\n",
       "\n",
       "    .dataframe tbody tr th {\n",
       "        vertical-align: top;\n",
       "    }\n",
       "\n",
       "    .dataframe thead th {\n",
       "        text-align: right;\n",
       "    }\n",
       "</style>\n",
       "<table border=\"1\" class=\"dataframe\">\n",
       "  <thead>\n",
       "    <tr style=\"text-align: right;\">\n",
       "      <th></th>\n",
       "      <th>Life Care / Broze - AVG wages / Has Kids and BSc/MSc</th>\n",
       "      <th>Life Care / Broze - AVG wages / Has Kids and High-School</th>\n",
       "      <th>Life Care / Broze - AVG wages / No kids</th>\n",
       "      <th>Life Care / Gold - AVG wages / Has Kids and BSc/MSc</th>\n",
       "      <th>Life Care / Gold - AVG wages / Has Kids and High-School</th>\n",
       "      <th>Life Care / Gold - AVG wages / No kids</th>\n",
       "      <th>Life Care / Silver - High Wages / Has Kids and BSc/MSc</th>\n",
       "      <th>Life Care / Silver - High Wages / Has Kids and High-School</th>\n",
       "      <th>Life Care / Silver - High Wages / No kids</th>\n",
       "      <th>Motors / Broze - AVG wages / Has Kids and BSc/MSc</th>\n",
       "      <th>Motors / Broze - AVG wages / Has Kids and High-School</th>\n",
       "      <th>Motors / Broze - AVG wages / No kids</th>\n",
       "      <th>Motors / Gold - AVG wages / Has Kids and BSc/MSc</th>\n",
       "      <th>Motors / Gold - AVG wages / Has Kids and High-School</th>\n",
       "      <th>Motors / Gold - AVG wages / No kids</th>\n",
       "      <th>Motors / Silver - High Wages / Has Kids and BSc/MSc</th>\n",
       "      <th>Motors / Silver - High Wages / Has Kids and High-School</th>\n",
       "      <th>Motors / Silver - High Wages / No kids</th>\n",
       "    </tr>\n",
       "  </thead>\n",
       "  <tbody>\n",
       "    <tr>\n",
       "      <th>Life Care / Broze - AVG wages / Has Kids and BSc/MSc</th>\n",
       "      <td>566</td>\n",
       "      <td>6</td>\n",
       "      <td>0</td>\n",
       "      <td>16</td>\n",
       "      <td>0</td>\n",
       "      <td>0</td>\n",
       "      <td>19</td>\n",
       "      <td>0</td>\n",
       "      <td>1</td>\n",
       "      <td>40</td>\n",
       "      <td>0</td>\n",
       "      <td>0</td>\n",
       "      <td>2</td>\n",
       "      <td>0</td>\n",
       "      <td>0</td>\n",
       "      <td>3</td>\n",
       "      <td>0</td>\n",
       "      <td>0</td>\n",
       "    </tr>\n",
       "    <tr>\n",
       "      <th>Life Care / Broze - AVG wages / Has Kids and High-School</th>\n",
       "      <td>1</td>\n",
       "      <td>352</td>\n",
       "      <td>0</td>\n",
       "      <td>0</td>\n",
       "      <td>13</td>\n",
       "      <td>0</td>\n",
       "      <td>0</td>\n",
       "      <td>14</td>\n",
       "      <td>0</td>\n",
       "      <td>2</td>\n",
       "      <td>29</td>\n",
       "      <td>0</td>\n",
       "      <td>1</td>\n",
       "      <td>2</td>\n",
       "      <td>0</td>\n",
       "      <td>0</td>\n",
       "      <td>3</td>\n",
       "      <td>0</td>\n",
       "    </tr>\n",
       "    <tr>\n",
       "      <th>Life Care / Broze - AVG wages / No kids</th>\n",
       "      <td>0</td>\n",
       "      <td>0</td>\n",
       "      <td>139</td>\n",
       "      <td>1</td>\n",
       "      <td>0</td>\n",
       "      <td>7</td>\n",
       "      <td>0</td>\n",
       "      <td>0</td>\n",
       "      <td>9</td>\n",
       "      <td>0</td>\n",
       "      <td>0</td>\n",
       "      <td>4</td>\n",
       "      <td>0</td>\n",
       "      <td>0</td>\n",
       "      <td>0</td>\n",
       "      <td>0</td>\n",
       "      <td>0</td>\n",
       "      <td>2</td>\n",
       "    </tr>\n",
       "    <tr>\n",
       "      <th>Life Care / Gold - AVG wages / Has Kids and BSc/MSc</th>\n",
       "      <td>15</td>\n",
       "      <td>0</td>\n",
       "      <td>0</td>\n",
       "      <td>427</td>\n",
       "      <td>4</td>\n",
       "      <td>10</td>\n",
       "      <td>21</td>\n",
       "      <td>0</td>\n",
       "      <td>1</td>\n",
       "      <td>5</td>\n",
       "      <td>0</td>\n",
       "      <td>0</td>\n",
       "      <td>35</td>\n",
       "      <td>0</td>\n",
       "      <td>0</td>\n",
       "      <td>3</td>\n",
       "      <td>0</td>\n",
       "      <td>0</td>\n",
       "    </tr>\n",
       "    <tr>\n",
       "      <th>Life Care / Gold - AVG wages / Has Kids and High-School</th>\n",
       "      <td>1</td>\n",
       "      <td>13</td>\n",
       "      <td>0</td>\n",
       "      <td>1</td>\n",
       "      <td>300</td>\n",
       "      <td>0</td>\n",
       "      <td>0</td>\n",
       "      <td>6</td>\n",
       "      <td>0</td>\n",
       "      <td>0</td>\n",
       "      <td>1</td>\n",
       "      <td>0</td>\n",
       "      <td>1</td>\n",
       "      <td>12</td>\n",
       "      <td>0</td>\n",
       "      <td>0</td>\n",
       "      <td>0</td>\n",
       "      <td>0</td>\n",
       "    </tr>\n",
       "    <tr>\n",
       "      <th>Life Care / Gold - AVG wages / No kids</th>\n",
       "      <td>1</td>\n",
       "      <td>0</td>\n",
       "      <td>2</td>\n",
       "      <td>13</td>\n",
       "      <td>3</td>\n",
       "      <td>139</td>\n",
       "      <td>1</td>\n",
       "      <td>0</td>\n",
       "      <td>12</td>\n",
       "      <td>0</td>\n",
       "      <td>0</td>\n",
       "      <td>0</td>\n",
       "      <td>0</td>\n",
       "      <td>0</td>\n",
       "      <td>2</td>\n",
       "      <td>0</td>\n",
       "      <td>0</td>\n",
       "      <td>4</td>\n",
       "    </tr>\n",
       "    <tr>\n",
       "      <th>Life Care / Silver - High Wages / Has Kids and BSc/MSc</th>\n",
       "      <td>9</td>\n",
       "      <td>0</td>\n",
       "      <td>0</td>\n",
       "      <td>25</td>\n",
       "      <td>0</td>\n",
       "      <td>0</td>\n",
       "      <td>381</td>\n",
       "      <td>1</td>\n",
       "      <td>4</td>\n",
       "      <td>4</td>\n",
       "      <td>0</td>\n",
       "      <td>0</td>\n",
       "      <td>0</td>\n",
       "      <td>0</td>\n",
       "      <td>0</td>\n",
       "      <td>35</td>\n",
       "      <td>2</td>\n",
       "      <td>0</td>\n",
       "    </tr>\n",
       "    <tr>\n",
       "      <th>Life Care / Silver - High Wages / Has Kids and High-School</th>\n",
       "      <td>0</td>\n",
       "      <td>14</td>\n",
       "      <td>0</td>\n",
       "      <td>2</td>\n",
       "      <td>10</td>\n",
       "      <td>1</td>\n",
       "      <td>1</td>\n",
       "      <td>125</td>\n",
       "      <td>0</td>\n",
       "      <td>0</td>\n",
       "      <td>1</td>\n",
       "      <td>0</td>\n",
       "      <td>0</td>\n",
       "      <td>1</td>\n",
       "      <td>0</td>\n",
       "      <td>0</td>\n",
       "      <td>6</td>\n",
       "      <td>0</td>\n",
       "    </tr>\n",
       "    <tr>\n",
       "      <th>Life Care / Silver - High Wages / No kids</th>\n",
       "      <td>0</td>\n",
       "      <td>0</td>\n",
       "      <td>2</td>\n",
       "      <td>0</td>\n",
       "      <td>2</td>\n",
       "      <td>8</td>\n",
       "      <td>0</td>\n",
       "      <td>0</td>\n",
       "      <td>563</td>\n",
       "      <td>0</td>\n",
       "      <td>0</td>\n",
       "      <td>1</td>\n",
       "      <td>0</td>\n",
       "      <td>0</td>\n",
       "      <td>1</td>\n",
       "      <td>1</td>\n",
       "      <td>0</td>\n",
       "      <td>34</td>\n",
       "    </tr>\n",
       "    <tr>\n",
       "      <th>Motors / Broze - AVG wages / Has Kids and BSc/MSc</th>\n",
       "      <td>45</td>\n",
       "      <td>0</td>\n",
       "      <td>0</td>\n",
       "      <td>3</td>\n",
       "      <td>0</td>\n",
       "      <td>0</td>\n",
       "      <td>2</td>\n",
       "      <td>0</td>\n",
       "      <td>0</td>\n",
       "      <td>617</td>\n",
       "      <td>0</td>\n",
       "      <td>1</td>\n",
       "      <td>3</td>\n",
       "      <td>0</td>\n",
       "      <td>0</td>\n",
       "      <td>25</td>\n",
       "      <td>0</td>\n",
       "      <td>0</td>\n",
       "    </tr>\n",
       "    <tr>\n",
       "      <th>Motors / Broze - AVG wages / Has Kids and High-School</th>\n",
       "      <td>0</td>\n",
       "      <td>18</td>\n",
       "      <td>0</td>\n",
       "      <td>0</td>\n",
       "      <td>0</td>\n",
       "      <td>0</td>\n",
       "      <td>0</td>\n",
       "      <td>0</td>\n",
       "      <td>0</td>\n",
       "      <td>0</td>\n",
       "      <td>162</td>\n",
       "      <td>0</td>\n",
       "      <td>0</td>\n",
       "      <td>0</td>\n",
       "      <td>0</td>\n",
       "      <td>0</td>\n",
       "      <td>4</td>\n",
       "      <td>0</td>\n",
       "    </tr>\n",
       "    <tr>\n",
       "      <th>Motors / Broze - AVG wages / No kids</th>\n",
       "      <td>0</td>\n",
       "      <td>0</td>\n",
       "      <td>0</td>\n",
       "      <td>0</td>\n",
       "      <td>0</td>\n",
       "      <td>0</td>\n",
       "      <td>0</td>\n",
       "      <td>0</td>\n",
       "      <td>2</td>\n",
       "      <td>0</td>\n",
       "      <td>0</td>\n",
       "      <td>21</td>\n",
       "      <td>0</td>\n",
       "      <td>0</td>\n",
       "      <td>0</td>\n",
       "      <td>0</td>\n",
       "      <td>0</td>\n",
       "      <td>3</td>\n",
       "    </tr>\n",
       "    <tr>\n",
       "      <th>Motors / Gold - AVG wages / Has Kids and BSc/MSc</th>\n",
       "      <td>3</td>\n",
       "      <td>0</td>\n",
       "      <td>0</td>\n",
       "      <td>33</td>\n",
       "      <td>1</td>\n",
       "      <td>2</td>\n",
       "      <td>3</td>\n",
       "      <td>0</td>\n",
       "      <td>0</td>\n",
       "      <td>4</td>\n",
       "      <td>1</td>\n",
       "      <td>0</td>\n",
       "      <td>655</td>\n",
       "      <td>2</td>\n",
       "      <td>2</td>\n",
       "      <td>24</td>\n",
       "      <td>0</td>\n",
       "      <td>0</td>\n",
       "    </tr>\n",
       "    <tr>\n",
       "      <th>Motors / Gold - AVG wages / Has Kids and High-School</th>\n",
       "      <td>0</td>\n",
       "      <td>1</td>\n",
       "      <td>0</td>\n",
       "      <td>0</td>\n",
       "      <td>12</td>\n",
       "      <td>1</td>\n",
       "      <td>2</td>\n",
       "      <td>1</td>\n",
       "      <td>0</td>\n",
       "      <td>0</td>\n",
       "      <td>1</td>\n",
       "      <td>0</td>\n",
       "      <td>7</td>\n",
       "      <td>172</td>\n",
       "      <td>0</td>\n",
       "      <td>0</td>\n",
       "      <td>3</td>\n",
       "      <td>0</td>\n",
       "    </tr>\n",
       "    <tr>\n",
       "      <th>Motors / Gold - AVG wages / No kids</th>\n",
       "      <td>0</td>\n",
       "      <td>0</td>\n",
       "      <td>0</td>\n",
       "      <td>1</td>\n",
       "      <td>1</td>\n",
       "      <td>2</td>\n",
       "      <td>0</td>\n",
       "      <td>1</td>\n",
       "      <td>1</td>\n",
       "      <td>1</td>\n",
       "      <td>0</td>\n",
       "      <td>0</td>\n",
       "      <td>4</td>\n",
       "      <td>0</td>\n",
       "      <td>37</td>\n",
       "      <td>1</td>\n",
       "      <td>0</td>\n",
       "      <td>2</td>\n",
       "    </tr>\n",
       "    <tr>\n",
       "      <th>Motors / Silver - High Wages / Has Kids and BSc/MSc</th>\n",
       "      <td>1</td>\n",
       "      <td>0</td>\n",
       "      <td>0</td>\n",
       "      <td>1</td>\n",
       "      <td>0</td>\n",
       "      <td>0</td>\n",
       "      <td>53</td>\n",
       "      <td>1</td>\n",
       "      <td>3</td>\n",
       "      <td>10</td>\n",
       "      <td>0</td>\n",
       "      <td>0</td>\n",
       "      <td>15</td>\n",
       "      <td>0</td>\n",
       "      <td>0</td>\n",
       "      <td>399</td>\n",
       "      <td>4</td>\n",
       "      <td>9</td>\n",
       "    </tr>\n",
       "    <tr>\n",
       "      <th>Motors / Silver - High Wages / Has Kids and High-School</th>\n",
       "      <td>0</td>\n",
       "      <td>1</td>\n",
       "      <td>0</td>\n",
       "      <td>0</td>\n",
       "      <td>1</td>\n",
       "      <td>0</td>\n",
       "      <td>0</td>\n",
       "      <td>16</td>\n",
       "      <td>0</td>\n",
       "      <td>5</td>\n",
       "      <td>11</td>\n",
       "      <td>0</td>\n",
       "      <td>0</td>\n",
       "      <td>9</td>\n",
       "      <td>0</td>\n",
       "      <td>2</td>\n",
       "      <td>55</td>\n",
       "      <td>0</td>\n",
       "    </tr>\n",
       "    <tr>\n",
       "      <th>Motors / Silver - High Wages / No kids</th>\n",
       "      <td>0</td>\n",
       "      <td>0</td>\n",
       "      <td>0</td>\n",
       "      <td>0</td>\n",
       "      <td>0</td>\n",
       "      <td>0</td>\n",
       "      <td>0</td>\n",
       "      <td>0</td>\n",
       "      <td>22</td>\n",
       "      <td>0</td>\n",
       "      <td>0</td>\n",
       "      <td>5</td>\n",
       "      <td>0</td>\n",
       "      <td>1</td>\n",
       "      <td>0</td>\n",
       "      <td>12</td>\n",
       "      <td>2</td>\n",
       "      <td>130</td>\n",
       "    </tr>\n",
       "  </tbody>\n",
       "</table>\n",
       "</div>"
      ],
      "text/plain": [
       "                                                    Life Care / Broze - AVG wages / Has Kids and BSc/MSc  \\\n",
       "Life Care / Broze - AVG wages / Has Kids and BS...                                                566      \n",
       "Life Care / Broze - AVG wages / Has Kids and Hi...                                                  1      \n",
       "Life Care / Broze - AVG wages / No kids                                                             0      \n",
       "Life Care / Gold - AVG wages / Has Kids and BSc...                                                 15      \n",
       "Life Care / Gold - AVG wages / Has Kids and Hig...                                                  1      \n",
       "Life Care / Gold - AVG wages / No kids                                                              1      \n",
       "Life Care / Silver - High Wages / Has Kids and ...                                                  9      \n",
       "Life Care / Silver - High Wages / Has Kids and ...                                                  0      \n",
       "Life Care / Silver - High Wages / No kids                                                           0      \n",
       "Motors / Broze - AVG wages / Has Kids and BSc/MSc                                                  45      \n",
       "Motors / Broze - AVG wages / Has Kids and High-...                                                  0      \n",
       "Motors / Broze - AVG wages / No kids                                                                0      \n",
       "Motors / Gold - AVG wages / Has Kids and BSc/MSc                                                    3      \n",
       "Motors / Gold - AVG wages / Has Kids and High-S...                                                  0      \n",
       "Motors / Gold - AVG wages / No kids                                                                 0      \n",
       "Motors / Silver - High Wages / Has Kids and BSc...                                                  1      \n",
       "Motors / Silver - High Wages / Has Kids and Hig...                                                  0      \n",
       "Motors / Silver - High Wages / No kids                                                              0      \n",
       "\n",
       "                                                    Life Care / Broze - AVG wages / Has Kids and High-School  \\\n",
       "Life Care / Broze - AVG wages / Has Kids and BS...                                                  6          \n",
       "Life Care / Broze - AVG wages / Has Kids and Hi...                                                352          \n",
       "Life Care / Broze - AVG wages / No kids                                                             0          \n",
       "Life Care / Gold - AVG wages / Has Kids and BSc...                                                  0          \n",
       "Life Care / Gold - AVG wages / Has Kids and Hig...                                                 13          \n",
       "Life Care / Gold - AVG wages / No kids                                                              0          \n",
       "Life Care / Silver - High Wages / Has Kids and ...                                                  0          \n",
       "Life Care / Silver - High Wages / Has Kids and ...                                                 14          \n",
       "Life Care / Silver - High Wages / No kids                                                           0          \n",
       "Motors / Broze - AVG wages / Has Kids and BSc/MSc                                                   0          \n",
       "Motors / Broze - AVG wages / Has Kids and High-...                                                 18          \n",
       "Motors / Broze - AVG wages / No kids                                                                0          \n",
       "Motors / Gold - AVG wages / Has Kids and BSc/MSc                                                    0          \n",
       "Motors / Gold - AVG wages / Has Kids and High-S...                                                  1          \n",
       "Motors / Gold - AVG wages / No kids                                                                 0          \n",
       "Motors / Silver - High Wages / Has Kids and BSc...                                                  0          \n",
       "Motors / Silver - High Wages / Has Kids and Hig...                                                  1          \n",
       "Motors / Silver - High Wages / No kids                                                              0          \n",
       "\n",
       "                                                    Life Care / Broze - AVG wages / No kids  \\\n",
       "Life Care / Broze - AVG wages / Has Kids and BS...                                        0   \n",
       "Life Care / Broze - AVG wages / Has Kids and Hi...                                        0   \n",
       "Life Care / Broze - AVG wages / No kids                                                 139   \n",
       "Life Care / Gold - AVG wages / Has Kids and BSc...                                        0   \n",
       "Life Care / Gold - AVG wages / Has Kids and Hig...                                        0   \n",
       "Life Care / Gold - AVG wages / No kids                                                    2   \n",
       "Life Care / Silver - High Wages / Has Kids and ...                                        0   \n",
       "Life Care / Silver - High Wages / Has Kids and ...                                        0   \n",
       "Life Care / Silver - High Wages / No kids                                                 2   \n",
       "Motors / Broze - AVG wages / Has Kids and BSc/MSc                                         0   \n",
       "Motors / Broze - AVG wages / Has Kids and High-...                                        0   \n",
       "Motors / Broze - AVG wages / No kids                                                      0   \n",
       "Motors / Gold - AVG wages / Has Kids and BSc/MSc                                          0   \n",
       "Motors / Gold - AVG wages / Has Kids and High-S...                                        0   \n",
       "Motors / Gold - AVG wages / No kids                                                       0   \n",
       "Motors / Silver - High Wages / Has Kids and BSc...                                        0   \n",
       "Motors / Silver - High Wages / Has Kids and Hig...                                        0   \n",
       "Motors / Silver - High Wages / No kids                                                    0   \n",
       "\n",
       "                                                    Life Care / Gold - AVG wages / Has Kids and BSc/MSc  \\\n",
       "Life Care / Broze - AVG wages / Has Kids and BS...                                                 16     \n",
       "Life Care / Broze - AVG wages / Has Kids and Hi...                                                  0     \n",
       "Life Care / Broze - AVG wages / No kids                                                             1     \n",
       "Life Care / Gold - AVG wages / Has Kids and BSc...                                                427     \n",
       "Life Care / Gold - AVG wages / Has Kids and Hig...                                                  1     \n",
       "Life Care / Gold - AVG wages / No kids                                                             13     \n",
       "Life Care / Silver - High Wages / Has Kids and ...                                                 25     \n",
       "Life Care / Silver - High Wages / Has Kids and ...                                                  2     \n",
       "Life Care / Silver - High Wages / No kids                                                           0     \n",
       "Motors / Broze - AVG wages / Has Kids and BSc/MSc                                                   3     \n",
       "Motors / Broze - AVG wages / Has Kids and High-...                                                  0     \n",
       "Motors / Broze - AVG wages / No kids                                                                0     \n",
       "Motors / Gold - AVG wages / Has Kids and BSc/MSc                                                   33     \n",
       "Motors / Gold - AVG wages / Has Kids and High-S...                                                  0     \n",
       "Motors / Gold - AVG wages / No kids                                                                 1     \n",
       "Motors / Silver - High Wages / Has Kids and BSc...                                                  1     \n",
       "Motors / Silver - High Wages / Has Kids and Hig...                                                  0     \n",
       "Motors / Silver - High Wages / No kids                                                              0     \n",
       "\n",
       "                                                    Life Care / Gold - AVG wages / Has Kids and High-School  \\\n",
       "Life Care / Broze - AVG wages / Has Kids and BS...                                                  0         \n",
       "Life Care / Broze - AVG wages / Has Kids and Hi...                                                 13         \n",
       "Life Care / Broze - AVG wages / No kids                                                             0         \n",
       "Life Care / Gold - AVG wages / Has Kids and BSc...                                                  4         \n",
       "Life Care / Gold - AVG wages / Has Kids and Hig...                                                300         \n",
       "Life Care / Gold - AVG wages / No kids                                                              3         \n",
       "Life Care / Silver - High Wages / Has Kids and ...                                                  0         \n",
       "Life Care / Silver - High Wages / Has Kids and ...                                                 10         \n",
       "Life Care / Silver - High Wages / No kids                                                           2         \n",
       "Motors / Broze - AVG wages / Has Kids and BSc/MSc                                                   0         \n",
       "Motors / Broze - AVG wages / Has Kids and High-...                                                  0         \n",
       "Motors / Broze - AVG wages / No kids                                                                0         \n",
       "Motors / Gold - AVG wages / Has Kids and BSc/MSc                                                    1         \n",
       "Motors / Gold - AVG wages / Has Kids and High-S...                                                 12         \n",
       "Motors / Gold - AVG wages / No kids                                                                 1         \n",
       "Motors / Silver - High Wages / Has Kids and BSc...                                                  0         \n",
       "Motors / Silver - High Wages / Has Kids and Hig...                                                  1         \n",
       "Motors / Silver - High Wages / No kids                                                              0         \n",
       "\n",
       "                                                    Life Care / Gold - AVG wages / No kids  \\\n",
       "Life Care / Broze - AVG wages / Has Kids and BS...                                       0   \n",
       "Life Care / Broze - AVG wages / Has Kids and Hi...                                       0   \n",
       "Life Care / Broze - AVG wages / No kids                                                  7   \n",
       "Life Care / Gold - AVG wages / Has Kids and BSc...                                      10   \n",
       "Life Care / Gold - AVG wages / Has Kids and Hig...                                       0   \n",
       "Life Care / Gold - AVG wages / No kids                                                 139   \n",
       "Life Care / Silver - High Wages / Has Kids and ...                                       0   \n",
       "Life Care / Silver - High Wages / Has Kids and ...                                       1   \n",
       "Life Care / Silver - High Wages / No kids                                                8   \n",
       "Motors / Broze - AVG wages / Has Kids and BSc/MSc                                        0   \n",
       "Motors / Broze - AVG wages / Has Kids and High-...                                       0   \n",
       "Motors / Broze - AVG wages / No kids                                                     0   \n",
       "Motors / Gold - AVG wages / Has Kids and BSc/MSc                                         2   \n",
       "Motors / Gold - AVG wages / Has Kids and High-S...                                       1   \n",
       "Motors / Gold - AVG wages / No kids                                                      2   \n",
       "Motors / Silver - High Wages / Has Kids and BSc...                                       0   \n",
       "Motors / Silver - High Wages / Has Kids and Hig...                                       0   \n",
       "Motors / Silver - High Wages / No kids                                                   0   \n",
       "\n",
       "                                                    Life Care / Silver - High Wages / Has Kids and BSc/MSc  \\\n",
       "Life Care / Broze - AVG wages / Has Kids and BS...                                                 19        \n",
       "Life Care / Broze - AVG wages / Has Kids and Hi...                                                  0        \n",
       "Life Care / Broze - AVG wages / No kids                                                             0        \n",
       "Life Care / Gold - AVG wages / Has Kids and BSc...                                                 21        \n",
       "Life Care / Gold - AVG wages / Has Kids and Hig...                                                  0        \n",
       "Life Care / Gold - AVG wages / No kids                                                              1        \n",
       "Life Care / Silver - High Wages / Has Kids and ...                                                381        \n",
       "Life Care / Silver - High Wages / Has Kids and ...                                                  1        \n",
       "Life Care / Silver - High Wages / No kids                                                           0        \n",
       "Motors / Broze - AVG wages / Has Kids and BSc/MSc                                                   2        \n",
       "Motors / Broze - AVG wages / Has Kids and High-...                                                  0        \n",
       "Motors / Broze - AVG wages / No kids                                                                0        \n",
       "Motors / Gold - AVG wages / Has Kids and BSc/MSc                                                    3        \n",
       "Motors / Gold - AVG wages / Has Kids and High-S...                                                  2        \n",
       "Motors / Gold - AVG wages / No kids                                                                 0        \n",
       "Motors / Silver - High Wages / Has Kids and BSc...                                                 53        \n",
       "Motors / Silver - High Wages / Has Kids and Hig...                                                  0        \n",
       "Motors / Silver - High Wages / No kids                                                              0        \n",
       "\n",
       "                                                    Life Care / Silver - High Wages / Has Kids and High-School  \\\n",
       "Life Care / Broze - AVG wages / Has Kids and BS...                                                  0            \n",
       "Life Care / Broze - AVG wages / Has Kids and Hi...                                                 14            \n",
       "Life Care / Broze - AVG wages / No kids                                                             0            \n",
       "Life Care / Gold - AVG wages / Has Kids and BSc...                                                  0            \n",
       "Life Care / Gold - AVG wages / Has Kids and Hig...                                                  6            \n",
       "Life Care / Gold - AVG wages / No kids                                                              0            \n",
       "Life Care / Silver - High Wages / Has Kids and ...                                                  1            \n",
       "Life Care / Silver - High Wages / Has Kids and ...                                                125            \n",
       "Life Care / Silver - High Wages / No kids                                                           0            \n",
       "Motors / Broze - AVG wages / Has Kids and BSc/MSc                                                   0            \n",
       "Motors / Broze - AVG wages / Has Kids and High-...                                                  0            \n",
       "Motors / Broze - AVG wages / No kids                                                                0            \n",
       "Motors / Gold - AVG wages / Has Kids and BSc/MSc                                                    0            \n",
       "Motors / Gold - AVG wages / Has Kids and High-S...                                                  1            \n",
       "Motors / Gold - AVG wages / No kids                                                                 1            \n",
       "Motors / Silver - High Wages / Has Kids and BSc...                                                  1            \n",
       "Motors / Silver - High Wages / Has Kids and Hig...                                                 16            \n",
       "Motors / Silver - High Wages / No kids                                                              0            \n",
       "\n",
       "                                                    Life Care / Silver - High Wages / No kids  \\\n",
       "Life Care / Broze - AVG wages / Has Kids and BS...                                          1   \n",
       "Life Care / Broze - AVG wages / Has Kids and Hi...                                          0   \n",
       "Life Care / Broze - AVG wages / No kids                                                     9   \n",
       "Life Care / Gold - AVG wages / Has Kids and BSc...                                          1   \n",
       "Life Care / Gold - AVG wages / Has Kids and Hig...                                          0   \n",
       "Life Care / Gold - AVG wages / No kids                                                     12   \n",
       "Life Care / Silver - High Wages / Has Kids and ...                                          4   \n",
       "Life Care / Silver - High Wages / Has Kids and ...                                          0   \n",
       "Life Care / Silver - High Wages / No kids                                                 563   \n",
       "Motors / Broze - AVG wages / Has Kids and BSc/MSc                                           0   \n",
       "Motors / Broze - AVG wages / Has Kids and High-...                                          0   \n",
       "Motors / Broze - AVG wages / No kids                                                        2   \n",
       "Motors / Gold - AVG wages / Has Kids and BSc/MSc                                            0   \n",
       "Motors / Gold - AVG wages / Has Kids and High-S...                                          0   \n",
       "Motors / Gold - AVG wages / No kids                                                         1   \n",
       "Motors / Silver - High Wages / Has Kids and BSc...                                          3   \n",
       "Motors / Silver - High Wages / Has Kids and Hig...                                          0   \n",
       "Motors / Silver - High Wages / No kids                                                     22   \n",
       "\n",
       "                                                    Motors / Broze - AVG wages / Has Kids and BSc/MSc  \\\n",
       "Life Care / Broze - AVG wages / Has Kids and BS...                                                 40   \n",
       "Life Care / Broze - AVG wages / Has Kids and Hi...                                                  2   \n",
       "Life Care / Broze - AVG wages / No kids                                                             0   \n",
       "Life Care / Gold - AVG wages / Has Kids and BSc...                                                  5   \n",
       "Life Care / Gold - AVG wages / Has Kids and Hig...                                                  0   \n",
       "Life Care / Gold - AVG wages / No kids                                                              0   \n",
       "Life Care / Silver - High Wages / Has Kids and ...                                                  4   \n",
       "Life Care / Silver - High Wages / Has Kids and ...                                                  0   \n",
       "Life Care / Silver - High Wages / No kids                                                           0   \n",
       "Motors / Broze - AVG wages / Has Kids and BSc/MSc                                                 617   \n",
       "Motors / Broze - AVG wages / Has Kids and High-...                                                  0   \n",
       "Motors / Broze - AVG wages / No kids                                                                0   \n",
       "Motors / Gold - AVG wages / Has Kids and BSc/MSc                                                    4   \n",
       "Motors / Gold - AVG wages / Has Kids and High-S...                                                  0   \n",
       "Motors / Gold - AVG wages / No kids                                                                 1   \n",
       "Motors / Silver - High Wages / Has Kids and BSc...                                                 10   \n",
       "Motors / Silver - High Wages / Has Kids and Hig...                                                  5   \n",
       "Motors / Silver - High Wages / No kids                                                              0   \n",
       "\n",
       "                                                    Motors / Broze - AVG wages / Has Kids and High-School  \\\n",
       "Life Care / Broze - AVG wages / Has Kids and BS...                                                  0       \n",
       "Life Care / Broze - AVG wages / Has Kids and Hi...                                                 29       \n",
       "Life Care / Broze - AVG wages / No kids                                                             0       \n",
       "Life Care / Gold - AVG wages / Has Kids and BSc...                                                  0       \n",
       "Life Care / Gold - AVG wages / Has Kids and Hig...                                                  1       \n",
       "Life Care / Gold - AVG wages / No kids                                                              0       \n",
       "Life Care / Silver - High Wages / Has Kids and ...                                                  0       \n",
       "Life Care / Silver - High Wages / Has Kids and ...                                                  1       \n",
       "Life Care / Silver - High Wages / No kids                                                           0       \n",
       "Motors / Broze - AVG wages / Has Kids and BSc/MSc                                                   0       \n",
       "Motors / Broze - AVG wages / Has Kids and High-...                                                162       \n",
       "Motors / Broze - AVG wages / No kids                                                                0       \n",
       "Motors / Gold - AVG wages / Has Kids and BSc/MSc                                                    1       \n",
       "Motors / Gold - AVG wages / Has Kids and High-S...                                                  1       \n",
       "Motors / Gold - AVG wages / No kids                                                                 0       \n",
       "Motors / Silver - High Wages / Has Kids and BSc...                                                  0       \n",
       "Motors / Silver - High Wages / Has Kids and Hig...                                                 11       \n",
       "Motors / Silver - High Wages / No kids                                                              0       \n",
       "\n",
       "                                                    Motors / Broze - AVG wages / No kids  \\\n",
       "Life Care / Broze - AVG wages / Has Kids and BS...                                     0   \n",
       "Life Care / Broze - AVG wages / Has Kids and Hi...                                     0   \n",
       "Life Care / Broze - AVG wages / No kids                                                4   \n",
       "Life Care / Gold - AVG wages / Has Kids and BSc...                                     0   \n",
       "Life Care / Gold - AVG wages / Has Kids and Hig...                                     0   \n",
       "Life Care / Gold - AVG wages / No kids                                                 0   \n",
       "Life Care / Silver - High Wages / Has Kids and ...                                     0   \n",
       "Life Care / Silver - High Wages / Has Kids and ...                                     0   \n",
       "Life Care / Silver - High Wages / No kids                                              1   \n",
       "Motors / Broze - AVG wages / Has Kids and BSc/MSc                                      1   \n",
       "Motors / Broze - AVG wages / Has Kids and High-...                                     0   \n",
       "Motors / Broze - AVG wages / No kids                                                  21   \n",
       "Motors / Gold - AVG wages / Has Kids and BSc/MSc                                       0   \n",
       "Motors / Gold - AVG wages / Has Kids and High-S...                                     0   \n",
       "Motors / Gold - AVG wages / No kids                                                    0   \n",
       "Motors / Silver - High Wages / Has Kids and BSc...                                     0   \n",
       "Motors / Silver - High Wages / Has Kids and Hig...                                     0   \n",
       "Motors / Silver - High Wages / No kids                                                 5   \n",
       "\n",
       "                                                    Motors / Gold - AVG wages / Has Kids and BSc/MSc  \\\n",
       "Life Care / Broze - AVG wages / Has Kids and BS...                                                 2   \n",
       "Life Care / Broze - AVG wages / Has Kids and Hi...                                                 1   \n",
       "Life Care / Broze - AVG wages / No kids                                                            0   \n",
       "Life Care / Gold - AVG wages / Has Kids and BSc...                                                35   \n",
       "Life Care / Gold - AVG wages / Has Kids and Hig...                                                 1   \n",
       "Life Care / Gold - AVG wages / No kids                                                             0   \n",
       "Life Care / Silver - High Wages / Has Kids and ...                                                 0   \n",
       "Life Care / Silver - High Wages / Has Kids and ...                                                 0   \n",
       "Life Care / Silver - High Wages / No kids                                                          0   \n",
       "Motors / Broze - AVG wages / Has Kids and BSc/MSc                                                  3   \n",
       "Motors / Broze - AVG wages / Has Kids and High-...                                                 0   \n",
       "Motors / Broze - AVG wages / No kids                                                               0   \n",
       "Motors / Gold - AVG wages / Has Kids and BSc/MSc                                                 655   \n",
       "Motors / Gold - AVG wages / Has Kids and High-S...                                                 7   \n",
       "Motors / Gold - AVG wages / No kids                                                                4   \n",
       "Motors / Silver - High Wages / Has Kids and BSc...                                                15   \n",
       "Motors / Silver - High Wages / Has Kids and Hig...                                                 0   \n",
       "Motors / Silver - High Wages / No kids                                                             0   \n",
       "\n",
       "                                                    Motors / Gold - AVG wages / Has Kids and High-School  \\\n",
       "Life Care / Broze - AVG wages / Has Kids and BS...                                                  0      \n",
       "Life Care / Broze - AVG wages / Has Kids and Hi...                                                  2      \n",
       "Life Care / Broze - AVG wages / No kids                                                             0      \n",
       "Life Care / Gold - AVG wages / Has Kids and BSc...                                                  0      \n",
       "Life Care / Gold - AVG wages / Has Kids and Hig...                                                 12      \n",
       "Life Care / Gold - AVG wages / No kids                                                              0      \n",
       "Life Care / Silver - High Wages / Has Kids and ...                                                  0      \n",
       "Life Care / Silver - High Wages / Has Kids and ...                                                  1      \n",
       "Life Care / Silver - High Wages / No kids                                                           0      \n",
       "Motors / Broze - AVG wages / Has Kids and BSc/MSc                                                   0      \n",
       "Motors / Broze - AVG wages / Has Kids and High-...                                                  0      \n",
       "Motors / Broze - AVG wages / No kids                                                                0      \n",
       "Motors / Gold - AVG wages / Has Kids and BSc/MSc                                                    2      \n",
       "Motors / Gold - AVG wages / Has Kids and High-S...                                                172      \n",
       "Motors / Gold - AVG wages / No kids                                                                 0      \n",
       "Motors / Silver - High Wages / Has Kids and BSc...                                                  0      \n",
       "Motors / Silver - High Wages / Has Kids and Hig...                                                  9      \n",
       "Motors / Silver - High Wages / No kids                                                              1      \n",
       "\n",
       "                                                    Motors / Gold - AVG wages / No kids  \\\n",
       "Life Care / Broze - AVG wages / Has Kids and BS...                                    0   \n",
       "Life Care / Broze - AVG wages / Has Kids and Hi...                                    0   \n",
       "Life Care / Broze - AVG wages / No kids                                               0   \n",
       "Life Care / Gold - AVG wages / Has Kids and BSc...                                    0   \n",
       "Life Care / Gold - AVG wages / Has Kids and Hig...                                    0   \n",
       "Life Care / Gold - AVG wages / No kids                                                2   \n",
       "Life Care / Silver - High Wages / Has Kids and ...                                    0   \n",
       "Life Care / Silver - High Wages / Has Kids and ...                                    0   \n",
       "Life Care / Silver - High Wages / No kids                                             1   \n",
       "Motors / Broze - AVG wages / Has Kids and BSc/MSc                                     0   \n",
       "Motors / Broze - AVG wages / Has Kids and High-...                                    0   \n",
       "Motors / Broze - AVG wages / No kids                                                  0   \n",
       "Motors / Gold - AVG wages / Has Kids and BSc/MSc                                      2   \n",
       "Motors / Gold - AVG wages / Has Kids and High-S...                                    0   \n",
       "Motors / Gold - AVG wages / No kids                                                  37   \n",
       "Motors / Silver - High Wages / Has Kids and BSc...                                    0   \n",
       "Motors / Silver - High Wages / Has Kids and Hig...                                    0   \n",
       "Motors / Silver - High Wages / No kids                                                0   \n",
       "\n",
       "                                                    Motors / Silver - High Wages / Has Kids and BSc/MSc  \\\n",
       "Life Care / Broze - AVG wages / Has Kids and BS...                                                  3     \n",
       "Life Care / Broze - AVG wages / Has Kids and Hi...                                                  0     \n",
       "Life Care / Broze - AVG wages / No kids                                                             0     \n",
       "Life Care / Gold - AVG wages / Has Kids and BSc...                                                  3     \n",
       "Life Care / Gold - AVG wages / Has Kids and Hig...                                                  0     \n",
       "Life Care / Gold - AVG wages / No kids                                                              0     \n",
       "Life Care / Silver - High Wages / Has Kids and ...                                                 35     \n",
       "Life Care / Silver - High Wages / Has Kids and ...                                                  0     \n",
       "Life Care / Silver - High Wages / No kids                                                           1     \n",
       "Motors / Broze - AVG wages / Has Kids and BSc/MSc                                                  25     \n",
       "Motors / Broze - AVG wages / Has Kids and High-...                                                  0     \n",
       "Motors / Broze - AVG wages / No kids                                                                0     \n",
       "Motors / Gold - AVG wages / Has Kids and BSc/MSc                                                   24     \n",
       "Motors / Gold - AVG wages / Has Kids and High-S...                                                  0     \n",
       "Motors / Gold - AVG wages / No kids                                                                 1     \n",
       "Motors / Silver - High Wages / Has Kids and BSc...                                                399     \n",
       "Motors / Silver - High Wages / Has Kids and Hig...                                                  2     \n",
       "Motors / Silver - High Wages / No kids                                                             12     \n",
       "\n",
       "                                                    Motors / Silver - High Wages / Has Kids and High-School  \\\n",
       "Life Care / Broze - AVG wages / Has Kids and BS...                                                  0         \n",
       "Life Care / Broze - AVG wages / Has Kids and Hi...                                                  3         \n",
       "Life Care / Broze - AVG wages / No kids                                                             0         \n",
       "Life Care / Gold - AVG wages / Has Kids and BSc...                                                  0         \n",
       "Life Care / Gold - AVG wages / Has Kids and Hig...                                                  0         \n",
       "Life Care / Gold - AVG wages / No kids                                                              0         \n",
       "Life Care / Silver - High Wages / Has Kids and ...                                                  2         \n",
       "Life Care / Silver - High Wages / Has Kids and ...                                                  6         \n",
       "Life Care / Silver - High Wages / No kids                                                           0         \n",
       "Motors / Broze - AVG wages / Has Kids and BSc/MSc                                                   0         \n",
       "Motors / Broze - AVG wages / Has Kids and High-...                                                  4         \n",
       "Motors / Broze - AVG wages / No kids                                                                0         \n",
       "Motors / Gold - AVG wages / Has Kids and BSc/MSc                                                    0         \n",
       "Motors / Gold - AVG wages / Has Kids and High-S...                                                  3         \n",
       "Motors / Gold - AVG wages / No kids                                                                 0         \n",
       "Motors / Silver - High Wages / Has Kids and BSc...                                                  4         \n",
       "Motors / Silver - High Wages / Has Kids and Hig...                                                 55         \n",
       "Motors / Silver - High Wages / No kids                                                              2         \n",
       "\n",
       "                                                    Motors / Silver - High Wages / No kids  \n",
       "Life Care / Broze - AVG wages / Has Kids and BS...                                       0  \n",
       "Life Care / Broze - AVG wages / Has Kids and Hi...                                       0  \n",
       "Life Care / Broze - AVG wages / No kids                                                  2  \n",
       "Life Care / Gold - AVG wages / Has Kids and BSc...                                       0  \n",
       "Life Care / Gold - AVG wages / Has Kids and Hig...                                       0  \n",
       "Life Care / Gold - AVG wages / No kids                                                   4  \n",
       "Life Care / Silver - High Wages / Has Kids and ...                                       0  \n",
       "Life Care / Silver - High Wages / Has Kids and ...                                       0  \n",
       "Life Care / Silver - High Wages / No kids                                               34  \n",
       "Motors / Broze - AVG wages / Has Kids and BSc/MSc                                        0  \n",
       "Motors / Broze - AVG wages / Has Kids and High-...                                       0  \n",
       "Motors / Broze - AVG wages / No kids                                                     3  \n",
       "Motors / Gold - AVG wages / Has Kids and BSc/MSc                                         0  \n",
       "Motors / Gold - AVG wages / Has Kids and High-S...                                       0  \n",
       "Motors / Gold - AVG wages / No kids                                                      2  \n",
       "Motors / Silver - High Wages / Has Kids and BSc...                                       9  \n",
       "Motors / Silver - High Wages / Has Kids and Hig...                                       0  \n",
       "Motors / Silver - High Wages / No kids                                                 130  "
      ]
     },
     "execution_count": 116,
     "metadata": {},
     "output_type": "execute_result"
    }
   ],
   "source": [
    "Cluster_Matrix = Cluster_db.groupby(['ClusterLob', 'ClusterEngageC', 'ClusterEngageN'], as_index = False)['CustomerIdentity'].count()\n",
    "\n",
    "Cluster_Matrix = pd.pivot_table(Cluster_Matrix, values='CustomerIdentity', index=['ClusterLob', 'ClusterEngageN'], columns=['ClusterEngageC'], aggfunc=np.sum)\n",
    "Cluster_db['FinalCluster'] = Cluster_db['ClusterLob']+' / '+ Cluster_db['ClusterEngageN']+' / '+Cluster_db['ClusterEngageC'] \n",
    "\n",
    "#Decision tree to try to reproduce de clusters that we have\n",
    "\n",
    "x = Cluster_db.loc[:,['P_Motor', 'P_Household', 'P_Health', 'P_Life', 'P_Work', \n",
    "                        'GrossMonthlySalary', 'CustomerMonetaryValue', 'EducationalDegree',  \n",
    "                        'GeographicLivingArea', 'Children']]\n",
    "\n",
    "y = Cluster_db.loc[:,['FinalCluster']]\n",
    "\n",
    "\n",
    "y = pd.Categorical(pd.Series(y['FinalCluster']), ordered = True)\n",
    "y = pd.get_dummies(y)\n",
    "\n",
    "X_train, X_test, y_train, y_test = train_test_split(x, y, random_state=111, train_size = 0.4)\n",
    "\n",
    "dt = DecisionTreeClassifier()\n",
    "dt.fit(X_train, y_train)\n",
    "\n",
    "y_pred = dt.predict(X_test)\n",
    "FinalCluster = np.array(y_test).argmax(axis=1)\n",
    "predictions = np.array(y_pred).argmax(axis=1)\n",
    "Confusion_Matrix = pd.DataFrame(confusion_matrix(FinalCluster, predictions), columns = y.columns, index = y.columns)\n",
    "print(\"Accuracy:\", round(metrics.accuracy_score(FinalCluster, predictions), 2))\n",
    "print(\"Balanced Accuracy:\", round(metrics.balanced_accuracy_score(FinalCluster, predictions), 2))\n",
    "Confusion_Matrix"
   ]
  },
  {
   "cell_type": "markdown",
   "metadata": {},
   "source": [
    "   Looking at the table with the cluster and Average per product, wages and value\n",
    " we decide to put some groups together, we didn't find a reason to have to groups\n",
    " of costumers without kids just split by education. they have the same behaivor inside their \n",
    " groups\n",
    "\n",
    "\n",
    "   Other caracteristic that we found was if the clients don't has kids they usually don't spend \n",
    "money with Motor, we can notice that looking the size of the cluster of clientas without kids\n",
    "we only have 8% of costumers (Gold and Bronze) Spending more money with motors than with life care\n",
    "we will keep this costumers in motors but toguether with the costumers who has kids"
   ]
  },
  {
   "cell_type": "code",
   "execution_count": 119,
   "metadata": {},
   "outputs": [
    {
     "name": "stderr",
     "output_type": "stream",
     "text": [
      "C:\\Users\\gsmfa\\Anaconda3\\lib\\site-packages\\ipykernel_launcher.py:1: FutureWarning: Indexing with multiple keys (implicitly converted to a tuple of keys) will be deprecated, use a list instead.\n",
      "  \"\"\"Entry point for launching an IPython kernel.\n",
      "C:\\Users\\gsmfa\\Anaconda3\\lib\\site-packages\\ipykernel_launcher.py:18: FutureWarning: Indexing with multiple keys (implicitly converted to a tuple of keys) will be deprecated, use a list instead.\n"
     ]
    }
   ],
   "source": [
    "Mean_Prod = Cluster_db.groupby('FinalCluster', as_index = False)['P_Motor', 'P_Household', 'P_Health', 'P_Life', 'P_Work', 'GrossMonthlySalary', 'CustomerMonetaryValue'].mean()\n",
    "\n",
    "\n",
    "Cluster_db.loc[Cluster_db['ClusterEngageC'] == 'Has Kids and High-School', 'ClusterEngageC'] = 'Has Kids'\n",
    "Cluster_db.loc[Cluster_db['ClusterEngageC'] == 'Has Kids and BSc/MSc', 'ClusterEngageC'] = 'Has Kids'\n",
    "\n",
    "Cluster_db.loc[Cluster_db['FinalCluster'] == 'Motor / Broze - AVG wages / No kids', 'ClusterEngageC'] = 'Has Kids'\n",
    "Cluster_db.loc[Cluster_db['FinalCluster'] == 'Motor / Gold - AVG wages / No kids', 'ClusterEngageC'] = 'Has Kids'\n",
    "\n",
    "\n",
    "Cluster_db.drop(columns = ['FinalCluster'])\n",
    "Cluster_db['FinalCluster'] = Cluster_db['ClusterLob']+' / '+ Cluster_db['ClusterEngageN']+' / '+Cluster_db['ClusterEngageC']\n",
    "\n",
    "\n",
    "Cluster_Matrix = Cluster_db.groupby(['ClusterLob', 'ClusterEngageC', 'ClusterEngageN'], as_index = False)['CustomerIdentity'].count()\n",
    "Cluster_Matrix = pd.pivot_table(Cluster_Matrix, values='CustomerIdentity', index=['ClusterLob', 'ClusterEngageN'], columns=['ClusterEngageC'], aggfunc=np.sum)\n",
    "\n",
    "Mean_Prod = Cluster_db.groupby('FinalCluster', as_index = False)['P_Motor', 'P_Household', 'P_Health', 'P_Life', 'P_Work', 'GrossMonthlySalary', 'CustomerMonetaryValue'].mean()\n"
   ]
  },
  {
   "cell_type": "code",
   "execution_count": 120,
   "metadata": {},
   "outputs": [
    {
     "name": "stdout",
     "output_type": "stream",
     "text": [
      "Accuracy: 0.88\n",
      "Balanced Accuracy: 0.83\n"
     ]
    }
   ],
   "source": [
    "#Avaliando a reclusterização\n",
    "\n",
    "\n",
    "x = Cluster_db.loc[:,['P_Motor', 'P_Household', 'P_Health', 'P_Life', 'P_Work', \n",
    "                        'GrossMonthlySalary', 'CustomerMonetaryValue', 'EducationalDegree',  \n",
    "                        'GeographicLivingArea', 'Children']]\n",
    "\n",
    "y = Cluster_db.loc[:,['FinalCluster']]\n",
    "\n",
    "\n",
    "y = pd.Categorical(pd.Series(y['FinalCluster']), ordered = True)\n",
    "y = pd.get_dummies(y)\n",
    "\n",
    "X_train, X_test, y_train, y_test = train_test_split(x, y, random_state=111, train_size = 0.4)\n",
    "\n",
    "dt = DecisionTreeClassifier()\n",
    "dt.fit(X_train, y_train)\n",
    "\n",
    "y_pred = dt.predict(X_test)\n",
    "FinalCluster = np.array(y_test).argmax(axis=1)\n",
    "predictions = np.array(y_pred).argmax(axis=1)\n",
    "Confusion_Matrix = pd.DataFrame(confusion_matrix(FinalCluster, predictions), columns = y.columns, index = y.columns)\n",
    "print(\"Accuracy:\", round(metrics.accuracy_score(FinalCluster, predictions), 2))\n",
    "print(\"Balanced Accuracy:\", round(metrics.balanced_accuracy_score(FinalCluster, predictions), 2))\n"
   ]
  },
  {
   "cell_type": "code",
   "execution_count": 121,
   "metadata": {},
   "outputs": [
    {
     "data": {
      "text/html": [
       "<div>\n",
       "<style scoped>\n",
       "    .dataframe tbody tr th:only-of-type {\n",
       "        vertical-align: middle;\n",
       "    }\n",
       "\n",
       "    .dataframe tbody tr th {\n",
       "        vertical-align: top;\n",
       "    }\n",
       "\n",
       "    .dataframe thead th {\n",
       "        text-align: right;\n",
       "    }\n",
       "</style>\n",
       "<table border=\"1\" class=\"dataframe\">\n",
       "  <thead>\n",
       "    <tr style=\"text-align: right;\">\n",
       "      <th></th>\n",
       "      <th>P_Motor</th>\n",
       "      <th>P_Household</th>\n",
       "      <th>P_Health</th>\n",
       "      <th>P_Life</th>\n",
       "      <th>P_Work</th>\n",
       "      <th>GrossMonthlySalary</th>\n",
       "      <th>CustomerMonetaryValue</th>\n",
       "      <th>FirstPolicy</th>\n",
       "      <th>ClaimsRate</th>\n",
       "      <th>size</th>\n",
       "    </tr>\n",
       "    <tr>\n",
       "      <th>FinalCluster</th>\n",
       "      <th></th>\n",
       "      <th></th>\n",
       "      <th></th>\n",
       "      <th></th>\n",
       "      <th></th>\n",
       "      <th></th>\n",
       "      <th></th>\n",
       "      <th></th>\n",
       "      <th></th>\n",
       "      <th></th>\n",
       "    </tr>\n",
       "  </thead>\n",
       "  <tbody>\n",
       "    <tr>\n",
       "      <th>Life Care / Broze - AVG wages / Has Kids</th>\n",
       "      <td>182.762324</td>\n",
       "      <td>295.236026</td>\n",
       "      <td>208.091944</td>\n",
       "      <td>68.592993</td>\n",
       "      <td>67.828418</td>\n",
       "      <td>1577.015873</td>\n",
       "      <td>42.403458</td>\n",
       "      <td>1985.922902</td>\n",
       "      <td>0.910476</td>\n",
       "      <td>1764</td>\n",
       "    </tr>\n",
       "    <tr>\n",
       "      <th>Life Care / Broze - AVG wages / No kids</th>\n",
       "      <td>141.471587</td>\n",
       "      <td>390.458856</td>\n",
       "      <td>182.556384</td>\n",
       "      <td>99.737085</td>\n",
       "      <td>87.224317</td>\n",
       "      <td>1466.863469</td>\n",
       "      <td>32.393137</td>\n",
       "      <td>1985.870849</td>\n",
       "      <td>0.928044</td>\n",
       "      <td>271</td>\n",
       "    </tr>\n",
       "    <tr>\n",
       "      <th>Life Care / Gold - AVG wages / Has Kids</th>\n",
       "      <td>199.236636</td>\n",
       "      <td>393.089464</td>\n",
       "      <td>183.225893</td>\n",
       "      <td>64.352029</td>\n",
       "      <td>65.177521</td>\n",
       "      <td>1849.787857</td>\n",
       "      <td>517.701729</td>\n",
       "      <td>1986.005000</td>\n",
       "      <td>0.411043</td>\n",
       "      <td>1400</td>\n",
       "    </tr>\n",
       "    <tr>\n",
       "      <th>Life Care / Gold - AVG wages / No kids</th>\n",
       "      <td>165.116826</td>\n",
       "      <td>507.801706</td>\n",
       "      <td>172.043515</td>\n",
       "      <td>79.664573</td>\n",
       "      <td>72.256860</td>\n",
       "      <td>2331.767918</td>\n",
       "      <td>638.733379</td>\n",
       "      <td>1985.938567</td>\n",
       "      <td>0.342355</td>\n",
       "      <td>293</td>\n",
       "    </tr>\n",
       "    <tr>\n",
       "      <th>Life Care / Silver - High Wages / Has Kids</th>\n",
       "      <td>244.317473</td>\n",
       "      <td>222.565403</td>\n",
       "      <td>202.525695</td>\n",
       "      <td>48.691992</td>\n",
       "      <td>47.838367</td>\n",
       "      <td>3508.173955</td>\n",
       "      <td>164.551273</td>\n",
       "      <td>1986.172012</td>\n",
       "      <td>0.750146</td>\n",
       "      <td>1029</td>\n",
       "    </tr>\n",
       "    <tr>\n",
       "      <th>Life Care / Silver - High Wages / No kids</th>\n",
       "      <td>203.047172</td>\n",
       "      <td>250.382828</td>\n",
       "      <td>229.969579</td>\n",
       "      <td>54.469403</td>\n",
       "      <td>50.767701</td>\n",
       "      <td>3734.593933</td>\n",
       "      <td>157.695851</td>\n",
       "      <td>1986.450098</td>\n",
       "      <td>0.766507</td>\n",
       "      <td>1022</td>\n",
       "    </tr>\n",
       "    <tr>\n",
       "      <th>Motors / Broze - AVG wages / Has Kids</th>\n",
       "      <td>428.637769</td>\n",
       "      <td>54.639079</td>\n",
       "      <td>118.304617</td>\n",
       "      <td>11.821418</td>\n",
       "      <td>11.931317</td>\n",
       "      <td>2173.645161</td>\n",
       "      <td>-11.408434</td>\n",
       "      <td>1985.814516</td>\n",
       "      <td>0.978347</td>\n",
       "      <td>1488</td>\n",
       "    </tr>\n",
       "    <tr>\n",
       "      <th>Motors / Broze - AVG wages / No kids</th>\n",
       "      <td>423.601154</td>\n",
       "      <td>62.255769</td>\n",
       "      <td>108.242692</td>\n",
       "      <td>19.146731</td>\n",
       "      <td>13.150000</td>\n",
       "      <td>2442.923077</td>\n",
       "      <td>-17.779231</td>\n",
       "      <td>1985.057692</td>\n",
       "      <td>0.975385</td>\n",
       "      <td>52</td>\n",
       "    </tr>\n",
       "    <tr>\n",
       "      <th>Motors / Gold - AVG wages / Has Kids</th>\n",
       "      <td>436.814456</td>\n",
       "      <td>66.433469</td>\n",
       "      <td>113.808438</td>\n",
       "      <td>11.637587</td>\n",
       "      <td>11.881244</td>\n",
       "      <td>2334.139375</td>\n",
       "      <td>441.290763</td>\n",
       "      <td>1986.011875</td>\n",
       "      <td>0.267400</td>\n",
       "      <td>1600</td>\n",
       "    </tr>\n",
       "    <tr>\n",
       "      <th>Motors / Gold - AVG wages / No kids</th>\n",
       "      <td>427.836420</td>\n",
       "      <td>89.803704</td>\n",
       "      <td>112.210494</td>\n",
       "      <td>15.299259</td>\n",
       "      <td>15.511852</td>\n",
       "      <td>2669.716049</td>\n",
       "      <td>452.348889</td>\n",
       "      <td>1985.419753</td>\n",
       "      <td>0.272840</td>\n",
       "      <td>81</td>\n",
       "    </tr>\n",
       "    <tr>\n",
       "      <th>Motors / Silver - High Wages / Has Kids</th>\n",
       "      <td>405.778787</td>\n",
       "      <td>79.701477</td>\n",
       "      <td>131.193523</td>\n",
       "      <td>14.835032</td>\n",
       "      <td>16.103766</td>\n",
       "      <td>3443.973629</td>\n",
       "      <td>136.794926</td>\n",
       "      <td>1986.350211</td>\n",
       "      <td>0.747342</td>\n",
       "      <td>948</td>\n",
       "    </tr>\n",
       "    <tr>\n",
       "      <th>Motors / Silver - High Wages / No kids</th>\n",
       "      <td>369.262662</td>\n",
       "      <td>76.473539</td>\n",
       "      <td>169.667955</td>\n",
       "      <td>16.489870</td>\n",
       "      <td>14.465292</td>\n",
       "      <td>3699.308442</td>\n",
       "      <td>153.835552</td>\n",
       "      <td>1985.311688</td>\n",
       "      <td>0.723117</td>\n",
       "      <td>308</td>\n",
       "    </tr>\n",
       "  </tbody>\n",
       "</table>\n",
       "</div>"
      ],
      "text/plain": [
       "                                               P_Motor  P_Household  \\\n",
       "FinalCluster                                                          \n",
       "Life Care / Broze - AVG wages / Has Kids    182.762324   295.236026   \n",
       "Life Care / Broze - AVG wages / No kids     141.471587   390.458856   \n",
       "Life Care / Gold - AVG wages / Has Kids     199.236636   393.089464   \n",
       "Life Care / Gold - AVG wages / No kids      165.116826   507.801706   \n",
       "Life Care / Silver - High Wages / Has Kids  244.317473   222.565403   \n",
       "Life Care / Silver - High Wages / No kids   203.047172   250.382828   \n",
       "Motors / Broze - AVG wages / Has Kids       428.637769    54.639079   \n",
       "Motors / Broze - AVG wages / No kids        423.601154    62.255769   \n",
       "Motors / Gold - AVG wages / Has Kids        436.814456    66.433469   \n",
       "Motors / Gold - AVG wages / No kids         427.836420    89.803704   \n",
       "Motors / Silver - High Wages / Has Kids     405.778787    79.701477   \n",
       "Motors / Silver - High Wages / No kids      369.262662    76.473539   \n",
       "\n",
       "                                              P_Health     P_Life     P_Work  \\\n",
       "FinalCluster                                                                   \n",
       "Life Care / Broze - AVG wages / Has Kids    208.091944  68.592993  67.828418   \n",
       "Life Care / Broze - AVG wages / No kids     182.556384  99.737085  87.224317   \n",
       "Life Care / Gold - AVG wages / Has Kids     183.225893  64.352029  65.177521   \n",
       "Life Care / Gold - AVG wages / No kids      172.043515  79.664573  72.256860   \n",
       "Life Care / Silver - High Wages / Has Kids  202.525695  48.691992  47.838367   \n",
       "Life Care / Silver - High Wages / No kids   229.969579  54.469403  50.767701   \n",
       "Motors / Broze - AVG wages / Has Kids       118.304617  11.821418  11.931317   \n",
       "Motors / Broze - AVG wages / No kids        108.242692  19.146731  13.150000   \n",
       "Motors / Gold - AVG wages / Has Kids        113.808438  11.637587  11.881244   \n",
       "Motors / Gold - AVG wages / No kids         112.210494  15.299259  15.511852   \n",
       "Motors / Silver - High Wages / Has Kids     131.193523  14.835032  16.103766   \n",
       "Motors / Silver - High Wages / No kids      169.667955  16.489870  14.465292   \n",
       "\n",
       "                                            GrossMonthlySalary  \\\n",
       "FinalCluster                                                     \n",
       "Life Care / Broze - AVG wages / Has Kids           1577.015873   \n",
       "Life Care / Broze - AVG wages / No kids            1466.863469   \n",
       "Life Care / Gold - AVG wages / Has Kids            1849.787857   \n",
       "Life Care / Gold - AVG wages / No kids             2331.767918   \n",
       "Life Care / Silver - High Wages / Has Kids         3508.173955   \n",
       "Life Care / Silver - High Wages / No kids          3734.593933   \n",
       "Motors / Broze - AVG wages / Has Kids              2173.645161   \n",
       "Motors / Broze - AVG wages / No kids               2442.923077   \n",
       "Motors / Gold - AVG wages / Has Kids               2334.139375   \n",
       "Motors / Gold - AVG wages / No kids                2669.716049   \n",
       "Motors / Silver - High Wages / Has Kids            3443.973629   \n",
       "Motors / Silver - High Wages / No kids             3699.308442   \n",
       "\n",
       "                                            CustomerMonetaryValue  \\\n",
       "FinalCluster                                                        \n",
       "Life Care / Broze - AVG wages / Has Kids                42.403458   \n",
       "Life Care / Broze - AVG wages / No kids                 32.393137   \n",
       "Life Care / Gold - AVG wages / Has Kids                517.701729   \n",
       "Life Care / Gold - AVG wages / No kids                 638.733379   \n",
       "Life Care / Silver - High Wages / Has Kids             164.551273   \n",
       "Life Care / Silver - High Wages / No kids              157.695851   \n",
       "Motors / Broze - AVG wages / Has Kids                  -11.408434   \n",
       "Motors / Broze - AVG wages / No kids                   -17.779231   \n",
       "Motors / Gold - AVG wages / Has Kids                   441.290763   \n",
       "Motors / Gold - AVG wages / No kids                    452.348889   \n",
       "Motors / Silver - High Wages / Has Kids                136.794926   \n",
       "Motors / Silver - High Wages / No kids                 153.835552   \n",
       "\n",
       "                                            FirstPolicy  ClaimsRate  size  \n",
       "FinalCluster                                                               \n",
       "Life Care / Broze - AVG wages / Has Kids    1985.922902    0.910476  1764  \n",
       "Life Care / Broze - AVG wages / No kids     1985.870849    0.928044   271  \n",
       "Life Care / Gold - AVG wages / Has Kids     1986.005000    0.411043  1400  \n",
       "Life Care / Gold - AVG wages / No kids      1985.938567    0.342355   293  \n",
       "Life Care / Silver - High Wages / Has Kids  1986.172012    0.750146  1029  \n",
       "Life Care / Silver - High Wages / No kids   1986.450098    0.766507  1022  \n",
       "Motors / Broze - AVG wages / Has Kids       1985.814516    0.978347  1488  \n",
       "Motors / Broze - AVG wages / No kids        1985.057692    0.975385    52  \n",
       "Motors / Gold - AVG wages / Has Kids        1986.011875    0.267400  1600  \n",
       "Motors / Gold - AVG wages / No kids         1985.419753    0.272840    81  \n",
       "Motors / Silver - High Wages / Has Kids     1986.350211    0.747342   948  \n",
       "Motors / Silver - High Wages / No kids      1985.311688    0.723117   308  "
      ]
     },
     "execution_count": 121,
     "metadata": {},
     "output_type": "execute_result"
    }
   ],
   "source": [
    "Mean_Prod = Cluster_db.groupby('FinalCluster').agg(P_Motor=('P_Motor', 'mean'), \n",
    "                                                                P_Household=('P_Household', 'mean'),\n",
    "                                                                P_Health=('P_Health', 'mean'),\n",
    "                                                                P_Life=('P_Life', 'mean'),\n",
    "                                                                P_Work=('P_Work', 'mean'),\n",
    "                                                                GrossMonthlySalary=('GrossMonthlySalary', 'mean'),\n",
    "                                                                CustomerMonetaryValue=('CustomerMonetaryValue', 'mean'),\n",
    "                                                                FirstPolicy=('FirstPolicy', 'mean'),\n",
    "                                                                ClaimsRate=('ClaimsRate', 'mean'),\n",
    "                                                                size=('ClusterLob', 'size'))\n",
    "Mean_Prod"
   ]
  },
  {
   "cell_type": "markdown",
   "metadata": {},
   "source": [
    "In order to generate marketing strategies, we put together groups that we thought should have the same kind of approach. and that made the number of clusters decrease to 5.\n",
    "\n",
    "\n",
    "<strong>Profitable Life Care Focused:</strong> Basically the best customers in 'Life Care', has the biggest CMV and invest more than the average in premiums related with Life, Household, Work and Health\n",
    "\n",
    "<strong>Profitable Motor Focused:</strong> Best customers in 'Motors', CMV two times above the average, composed mostly of people with children.\n",
    "\n",
    "<strong>Wealthy Live Care Focused:</strong> High-income clients with below-average CMV. Are focused on Life Care  \n",
    "\n",
    "<strong>Wealthy Motor Focused:</strong> High-income clients with below-average CMV. Are focused on Motors\n",
    "\n",
    "<strong>Unprofitable:</strong> Customers with low monetary value.\n"
   ]
  },
  {
   "cell_type": "code",
   "execution_count": 123,
   "metadata": {},
   "outputs": [
    {
     "data": {
      "text/html": [
       "<div>\n",
       "<style scoped>\n",
       "    .dataframe tbody tr th:only-of-type {\n",
       "        vertical-align: middle;\n",
       "    }\n",
       "\n",
       "    .dataframe tbody tr th {\n",
       "        vertical-align: top;\n",
       "    }\n",
       "\n",
       "    .dataframe thead th {\n",
       "        text-align: right;\n",
       "    }\n",
       "</style>\n",
       "<table border=\"1\" class=\"dataframe\">\n",
       "  <thead>\n",
       "    <tr style=\"text-align: right;\">\n",
       "      <th></th>\n",
       "      <th>P_Motor</th>\n",
       "      <th>P_Household</th>\n",
       "      <th>P_Health</th>\n",
       "      <th>P_Life</th>\n",
       "      <th>P_Work</th>\n",
       "      <th>GrossMonthlySalary</th>\n",
       "      <th>CustomerMonetaryValue</th>\n",
       "      <th>FirstPolicy</th>\n",
       "      <th>ClaimsRate</th>\n",
       "      <th>size</th>\n",
       "    </tr>\n",
       "    <tr>\n",
       "      <th>Marketing</th>\n",
       "      <th></th>\n",
       "      <th></th>\n",
       "      <th></th>\n",
       "      <th></th>\n",
       "      <th></th>\n",
       "      <th></th>\n",
       "      <th></th>\n",
       "      <th></th>\n",
       "      <th></th>\n",
       "      <th></th>\n",
       "    </tr>\n",
       "  </thead>\n",
       "  <tbody>\n",
       "    <tr>\n",
       "      <th>Profitable Life Care Focused</th>\n",
       "      <td>199.236636</td>\n",
       "      <td>393.089464</td>\n",
       "      <td>183.225893</td>\n",
       "      <td>64.352029</td>\n",
       "      <td>65.177521</td>\n",
       "      <td>1849.787857</td>\n",
       "      <td>517.701729</td>\n",
       "      <td>1986.005000</td>\n",
       "      <td>0.411043</td>\n",
       "      <td>1400</td>\n",
       "    </tr>\n",
       "    <tr>\n",
       "      <th>Profitable Motor Focused</th>\n",
       "      <td>436.381844</td>\n",
       "      <td>67.559578</td>\n",
       "      <td>113.731440</td>\n",
       "      <td>11.814027</td>\n",
       "      <td>12.056187</td>\n",
       "      <td>2350.309340</td>\n",
       "      <td>441.823605</td>\n",
       "      <td>1985.983343</td>\n",
       "      <td>0.267662</td>\n",
       "      <td>1681</td>\n",
       "    </tr>\n",
       "    <tr>\n",
       "      <th>Unprofitable</th>\n",
       "      <td>285.474629</td>\n",
       "      <td>198.923343</td>\n",
       "      <td>167.332269</td>\n",
       "      <td>46.604948</td>\n",
       "      <td>45.237684</td>\n",
       "      <td>1829.592168</td>\n",
       "      <td>18.371460</td>\n",
       "      <td>1985.861259</td>\n",
       "      <td>0.941001</td>\n",
       "      <td>3575</td>\n",
       "    </tr>\n",
       "    <tr>\n",
       "      <th>Wealthy Live Care Focused</th>\n",
       "      <td>223.752750</td>\n",
       "      <td>236.426646</td>\n",
       "      <td>216.200804</td>\n",
       "      <td>51.570839</td>\n",
       "      <td>49.298035</td>\n",
       "      <td>3620.997562</td>\n",
       "      <td>161.135261</td>\n",
       "      <td>1986.310580</td>\n",
       "      <td>0.758298</td>\n",
       "      <td>2051</td>\n",
       "    </tr>\n",
       "    <tr>\n",
       "      <th>Wealthy Motor Focused</th>\n",
       "      <td>396.824196</td>\n",
       "      <td>78.909912</td>\n",
       "      <td>140.628336</td>\n",
       "      <td>15.240836</td>\n",
       "      <td>15.701975</td>\n",
       "      <td>3506.587580</td>\n",
       "      <td>140.973678</td>\n",
       "      <td>1986.095541</td>\n",
       "      <td>0.741401</td>\n",
       "      <td>1256</td>\n",
       "    </tr>\n",
       "  </tbody>\n",
       "</table>\n",
       "</div>"
      ],
      "text/plain": [
       "                                 P_Motor  P_Household    P_Health     P_Life  \\\n",
       "Marketing                                                                      \n",
       "Profitable Life Care Focused  199.236636   393.089464  183.225893  64.352029   \n",
       "Profitable Motor Focused      436.381844    67.559578  113.731440  11.814027   \n",
       "Unprofitable                  285.474629   198.923343  167.332269  46.604948   \n",
       "Wealthy Live Care Focused     223.752750   236.426646  216.200804  51.570839   \n",
       "Wealthy Motor Focused         396.824196    78.909912  140.628336  15.240836   \n",
       "\n",
       "                                 P_Work  GrossMonthlySalary  \\\n",
       "Marketing                                                     \n",
       "Profitable Life Care Focused  65.177521         1849.787857   \n",
       "Profitable Motor Focused      12.056187         2350.309340   \n",
       "Unprofitable                  45.237684         1829.592168   \n",
       "Wealthy Live Care Focused     49.298035         3620.997562   \n",
       "Wealthy Motor Focused         15.701975         3506.587580   \n",
       "\n",
       "                              CustomerMonetaryValue  FirstPolicy  ClaimsRate  \\\n",
       "Marketing                                                                      \n",
       "Profitable Life Care Focused             517.701729  1986.005000    0.411043   \n",
       "Profitable Motor Focused                 441.823605  1985.983343    0.267662   \n",
       "Unprofitable                              18.371460  1985.861259    0.941001   \n",
       "Wealthy Live Care Focused                161.135261  1986.310580    0.758298   \n",
       "Wealthy Motor Focused                    140.973678  1986.095541    0.741401   \n",
       "\n",
       "                              size  \n",
       "Marketing                           \n",
       "Profitable Life Care Focused  1400  \n",
       "Profitable Motor Focused      1681  \n",
       "Unprofitable                  3575  \n",
       "Wealthy Live Care Focused     2051  \n",
       "Wealthy Motor Focused         1256  "
      ]
     },
     "execution_count": 123,
     "metadata": {},
     "output_type": "execute_result"
    }
   ],
   "source": [
    "Cluster_db.loc[Cluster_db['FinalCluster'] == 'Life Care / Broze - AVG wages / Has Kids', 'Marketing'] = 'Unprofitable'\n",
    "Cluster_db.loc[Cluster_db['FinalCluster'] == 'Life Care / Broze - AVG wages / No kids', 'Marketing'] = 'Unprofitable'\n",
    "Cluster_db.loc[Cluster_db['FinalCluster'] == \"Motors / Broze - AVG wages / Has Kids\", 'Marketing'] = 'Unprofitable'\n",
    "Cluster_db.loc[Cluster_db['FinalCluster'] == \"Motors / Broze - AVG wages / No kids\", 'Marketing'] = 'Unprofitable'\n",
    "\n",
    "Cluster_db.loc[Cluster_db['FinalCluster'] == \"Motors / Gold - AVG wages / Has Kids\", 'Marketing'] = 'Profitable Motor Focused'\n",
    "Cluster_db.loc[Cluster_db['FinalCluster'] == \"Motors / Gold - AVG wages / No kids\", 'Marketing'] = 'Profitable Motor Focused'\n",
    "\n",
    "Cluster_db.loc[Cluster_db['FinalCluster'] == \"Life Care / Gold - AVG wages / Has Kids\", 'Marketing'] = 'Profitable Life Care Focused'\n",
    "Cluster_db.loc[Cluster_db['FinalCluster'] == \"Life Care / Gold - AVG wages / No Kids\", 'Marketing'] = 'Profitable Life Care Focused'\n",
    "\n",
    "Cluster_db.loc[Cluster_db['FinalCluster'] == \"Life Care / Silver - High Wages / Has Kids\", 'Marketing'] = 'Wealthy Live Care Focused'\n",
    "Cluster_db.loc[Cluster_db['FinalCluster'] == \"Life Care / Silver - High Wages / No kids\", 'Marketing'] = 'Wealthy Live Care Focused'\n",
    "Cluster_db.loc[Cluster_db['FinalCluster'] == \"Motors / Silver - High Wages / Has Kids\", 'Marketing'] = 'Wealthy Motor Focused'\n",
    "Cluster_db.loc[Cluster_db['FinalCluster'] == \"Motors / Silver - High Wages / No kids\", 'Marketing'] = 'Wealthy Motor Focused'\n",
    "\n",
    "Mean_Prod = Cluster_db.groupby('Marketing').agg(P_Motor=('P_Motor', 'mean'), \n",
    "                                                                P_Household=('P_Household', 'mean'),\n",
    "                                                                P_Health=('P_Health', 'mean'),\n",
    "                                                                P_Life=('P_Life', 'mean'),\n",
    "                                                                P_Work=('P_Work', 'mean'),\n",
    "                                                                GrossMonthlySalary=('GrossMonthlySalary', 'mean'),\n",
    "                                                                CustomerMonetaryValue=('CustomerMonetaryValue', 'mean'),\n",
    "                                                                FirstPolicy=('FirstPolicy', 'mean'),\n",
    "                                                                ClaimsRate=('ClaimsRate', 'mean'),\n",
    "                                                                size=('ClusterLob', 'size'))\n",
    "Mean_Prod"
   ]
  },
  {
   "cell_type": "code",
   "execution_count": 124,
   "metadata": {},
   "outputs": [
    {
     "data": {
      "application/vnd.jupyter.widget-view+json": {
       "model_id": "3f8b78c8e6904066acad9b6f06ea7961",
       "version_major": 2,
       "version_minor": 0
      },
      "text/plain": [
       "interactive(children=(Dropdown(description='indicator', options=('Children', 'GeographicLivingArea', 'Educatio…"
      ]
     },
     "metadata": {},
     "output_type": "display_data"
    }
   ],
   "source": [
    "@interact\n",
    "def plt_distro(indicator=['Children', 'GeographicLivingArea', 'EducationalDegree']):\n",
    "    x = Cluster_db.groupby(['Marketing', indicator], as_index = False)['CustomerIdentity'].count()\n",
    "    plt.figure(figsize=(12,7))\n",
    "    return sb.barplot(x=\"Marketing\", y=\"CustomerIdentity\", hue=indicator, data=x)"
   ]
  },
  {
   "cell_type": "code",
   "execution_count": 125,
   "metadata": {},
   "outputs": [
    {
     "data": {
      "application/vnd.jupyter.widget-view+json": {
       "model_id": "fe338fcd5b114b1186f245b915903141",
       "version_major": 2,
       "version_minor": 0
      },
      "text/plain": [
       "interactive(children=(Dropdown(description='indicator', options=('P_Motor', 'P_Household', 'P_Health', 'P_Life…"
      ]
     },
     "metadata": {},
     "output_type": "display_data"
    }
   ],
   "source": [
    "@interact\n",
    "def plt_distro(indicator=['P_Motor', 'P_Household', 'P_Health', 'P_Life', 'P_Work', 'FirstPolicy' \n",
    "                          ,'GrossMonthlySalary', 'CustomerMonetaryValue', 'ClaimsRate']):\n",
    "    plt.figure(figsize=(15,7))\n",
    "    return sb.boxplot(data = Cluster_db, x = indicator , y= 'Marketing') "
   ]
  },
  {
   "cell_type": "markdown",
   "metadata": {},
   "source": [
    "# 9 Suggested Marketing Approach\n",
    " \n",
    "##### 9.1 Profitable Life Care Focused\n",
    "Although it is not the company’s biggest segment it is highly profitable, and thus it is of great importance that these customers are being kept satisfied. Since this segment is already profitable and customers purchased a lot of insurance, we majorly want to focus on keeping these customers and growing this segment.\n",
    "In order to make these customers feel save and well taken care off we suggest a relationship marketing approach. Personally, follow-up on their problems and newly signed contracts and offering personalized specials could strengthen the relationship. \n",
    "Further, customers might be able to attract new customers with similar insurance spending habits and needs to grow this segment. Through their social surroundings a positive mouth-to-mouth marketing could be very successful, since satisfied customers are likely to refer services to relatives or friends. Hence, making use of the satisfied customer with incentives, such as referral discounts, might increase such reference. Moreover, as there are also families within this segment, it is suggested to also focus on the children, because they can become the future customers once getting into adulthood. Thus, informing the children at the right time with a personalized approach about their possibilities with the insurance company might increase the customer base. However, the children do not necessarily have the same spending habits.\n",
    " \n",
    "##### 9.2 Profitable Motor Focused\n",
    "As with the profitable life care focused segment these customers are highly profitable and of great importance for the insurance company. Also, these customers should be kept satisfied and kept, while growing this segment.\n",
    "They should fell save and well taken care off with a personalized marketing approach, incentivizing referrals within their social surroundings. Also, their kids should be paid attention to, since they could be future customers.\n",
    "In addition to the approach that also has been used in the profitable life care focused segments these customers could be promoted to purchase more non-Motor insurances, since these products are significantly less present.\n",
    " \n",
    "##### 9.3 Unprofitable\n",
    "This segment currently does not generate any profit. Customers in this segment have high claim rates and pay low premiums. Hence, their behavior either has to be changes to purchase more insurance or they should be tried to be repelled.\n",
    "As it is the largest segment of the company it should first be focused on being made more profitable by either increasing their premiums or trying to lower the claims rate. Through initial discounts on more expensive premium packages, customers could be moved to spend more. At the same time incentivizing good behavior by lowering the premiums if customers claim less would reduce the claims rate.\n",
    "If all approaches don’t result in higher profitability for the extreme customers as a last resort the insurance company should take into consideration to end providing services to that customer.\n",
    " \n",
    "##### 9.4 Wealthy Live Care Focused\n",
    "It is the second biggest segment with big potential. Although these customers have relatively high claims rates decrease the profits, they have the highest income of all segments. Their premiums are more average compared to the other segment and their financial situation indicates a potential for higher premiums that could balance the claims rates increasing profitability.\n",
    "These customers could be offered additional insurance in areas they have not purchased yet to much. For example, comparing the wealthy motor focused these customers don’t spent as much on Motor insurance. Next to offering additional insurance, a superior insurance should be offered providing the feeling of an elite service, which could further increase the profits.\n",
    " \n",
    "##### 9.5 Wealthy Motor Focused\n",
    "Just like the wealthy live care focused this segment has the same characteristics with the difference that customers here spend a lot on their Motor insurance, while not spending too much in the other insurance options. \n",
    "Thus, next to offering a superior insurance at an additional cost, these customers should be incentivized to purchase additional insurance in the other areas. Appealing to preference of motor related behavior, such as a motor sport, a high-value health insurance might be interesting for the customer to purchase.\n"
   ]
  },
  {
   "cell_type": "code",
   "execution_count": null,
   "metadata": {},
   "outputs": [],
   "source": []
  }
 ],
 "metadata": {
  "kernelspec": {
   "display_name": "Python 3",
   "language": "python",
   "name": "python3"
  },
  "language_info": {
   "codemirror_mode": {
    "name": "ipython",
    "version": 3
   },
   "file_extension": ".py",
   "mimetype": "text/x-python",
   "name": "python",
   "nbconvert_exporter": "python",
   "pygments_lexer": "ipython3",
   "version": "3.7.7"
  }
 },
 "nbformat": 4,
 "nbformat_minor": 2
}
